{
 "cells": [
  {
   "cell_type": "code",
   "execution_count": 1,
   "id": "dade82a4-78b8-4e96-8115-b9f0b0cd6431",
   "metadata": {},
   "outputs": [],
   "source": [
    "import pandas as pd\n",
    "import matplotlib.pyplot as plt\n",
    "from torch.utils.data import Dataset"
   ]
  },
  {
   "cell_type": "code",
   "execution_count": 3,
   "id": "2342a3a3-1fa5-4f99-8d3f-bf453641d0d5",
   "metadata": {},
   "outputs": [],
   "source": [
    "df = pd.read_csv('ext_train_data.csv')"
   ]
  },
  {
   "cell_type": "code",
   "execution_count": 4,
   "id": "303ca632-5f8b-48e7-bbfb-890f6edfe755",
   "metadata": {},
   "outputs": [
    {
     "name": "stdout",
     "output_type": "stream",
     "text": [
      "Index(['medical_history', 'ground_truth_summary'], dtype='object')\n"
     ]
    }
   ],
   "source": [
    "print(df.keys())"
   ]
  },
  {
   "cell_type": "code",
   "execution_count": 6,
   "id": "0270b6bb-1a10-4788-a72c-7af5b16ced5c",
   "metadata": {},
   "outputs": [],
   "source": [
    "class abstractive_summ(Dataset):\n",
    "    def __init__(self, tokenizer, file_path, num_samples, input_length, output_length, print_text=False):         \n",
    "        self.dataset =  pd.read_csv(file_path)\n",
    "        if num_samples:\n",
    "            self.dataset = self.dataset[:num_samples]\n",
    "        self.input_length = input_length\n",
    "        self.tokenizer = tokenizer\n",
    "        self.output_length = output_length\n",
    "        self.print_text = print_text\n",
    "  \n",
    "    def __len__(self):\n",
    "        return self.dataset.shape[0]\n",
    "    \n",
    "    def clean_text(self, text):\n",
    "        text = text.replace('\\n','')\n",
    "        text = text.replace('``', '')\n",
    "        text = text.replace('\"', '')\n",
    "        \n",
    "        return text\n",
    "    \n",
    "    \n",
    "    def convert_to_features(self, example_batch):\n",
    "        # Tokenize contexts and questions (as pairs of inputs)\n",
    "        \n",
    "        if self.print_text:\n",
    "            print(\"Input Text: \", self.clean_text(example_batch['medical_history']))\n",
    "#         input_ = self.clean_text(example_batch['text']) + \" </s>\"\n",
    "#         target_ = self.clean_text(example_batch['headline']) + \" </s>\"\n",
    "        \n",
    "        input_ = self.clean_text(example_batch['medical_history'])\n",
    "        target_ = self.clean_text(example_batch['ground_truth_summary'])\n",
    "        \n",
    "        source = self.tokenizer.batch_encode_plus([input_], max_length=self.input_length, \n",
    "                                                     padding='max_length', truncation=True, return_tensors=\"pt\")\n",
    "        \n",
    "        targets = self.tokenizer.batch_encode_plus([target_], max_length=self.output_length, \n",
    "                                                     padding='max_length', truncation=True, return_tensors=\"pt\")\n",
    "    \n",
    "       \n",
    "        return source, targets\n",
    "  \n",
    "    def __getitem__(self, index):\n",
    "        source, targets = self.convert_to_features(self.dataset.iloc[index])\n",
    "        \n",
    "        source_ids = source[\"input_ids\"].squeeze()\n",
    "        target_ids = targets[\"input_ids\"].squeeze()\n",
    "\n",
    "        src_mask    = source[\"attention_mask\"].squeeze()\n",
    "        target_mask = targets[\"attention_mask\"].squeeze()\n",
    "\n",
    "        return {\"source_ids\": source_ids, \"source_mask\": src_mask, \"target_ids\": target_ids, \"target_mask\": target_mask}\n",
    "        \n",
    "    "
   ]
  },
  {
   "cell_type": "code",
   "execution_count": 8,
   "id": "fed9d4ea-6469-4ff9-8a65-7a5e6ac2fced",
   "metadata": {},
   "outputs": [],
   "source": [
    "def get_dataset(tokenizer, type_path, num_samples, args):\n",
    "    file_path = f\"{type_path}_data.csv\"  # train_data.csv, validation_data.csv, test_data.csv\n",
    "    dataset = abstractive_summ(tokenizer=tokenizer, file_path=file_path, num_samples=num_samples, input_length=args.max_input_length, output_length=args.max_output_length)\n",
    "    return dataset\n"
   ]
  },
  {
   "cell_type": "code",
   "execution_count": 10,
   "id": "130556a5-55ec-4dd5-9c2c-eab6a4c9da29",
   "metadata": {},
   "outputs": [],
   "source": [
    "import torch\n",
    "from torch.utils.data import DataLoader\n",
    "from transformers import T5ForConditionalGeneration, T5Tokenizer, AdamW, get_linear_schedule_with_warmup\n",
    "import pytorch_lightning as pl\n",
    "from datasets import load_metric\n",
    "import time\n",
    "import numpy as np\n",
    "\n",
    "class T5FineTuner(pl.LightningModule):\n",
    "    def __init__(self, hparams):\n",
    "        super(T5FineTuner, self).__init__()\n",
    "        self.save_hyperparameters(hparams)\n",
    "        self.model = T5ForConditionalGeneration.from_pretrained(hparams.model_name_or_path)\n",
    "        self.tokenizer = T5Tokenizer.from_pretrained(hparams.tokenizer_name_or_path)\n",
    "        self.rouge_metric = load_metric('rouge') \n",
    "        \n",
    "        if self.hparams.freeze_embeds:\n",
    "            self.freeze_embeds()\n",
    "        if self.hparams.freeze_encoder:\n",
    "            self.freeze_params(self.model.get_encoder())\n",
    "            assert_all_frozen(self.model.get_encoder())\n",
    "            \n",
    "        self.n_obs = {\n",
    "            \"train\": self.hparams.n_train,\n",
    "            \"validation\": self.hparams.n_val,\n",
    "            \"test\": self.hparams.n_test\n",
    "        }\n",
    "        \n",
    "    def freeze_params(self, model):\n",
    "        for par in model.parameters():\n",
    "            par.requires_grad = False\n",
    "            \n",
    "    def freeze_embeds(self):\n",
    "        try:\n",
    "            self.freeze_params(self.model.shared)\n",
    "            for d in [self.model.encoder, self.model.decoder]:\n",
    "                self.freeze_params(d.embed_tokens)\n",
    "        except AttributeError:\n",
    "            self.freeze_params(self.model.shared)\n",
    "            for d in [self.model.encoder, self.model.decoder]:\n",
    "                self.freeze_params(d.embed_tokens)\n",
    "    \n",
    "    def forward(self, input_ids, attention_mask=None, decoder_input_ids=None, decoder_attention_mask=None, lm_labels=None):\n",
    "        return self.model(\n",
    "            input_ids,\n",
    "            attention_mask=attention_mask,\n",
    "            decoder_input_ids=decoder_input_ids,\n",
    "            decoder_attention_mask=decoder_attention_mask,\n",
    "            labels=lm_labels,\n",
    "        )\n",
    "\n",
    "    def _step(self, batch):\n",
    "        lm_labels = batch[\"target_ids\"]\n",
    "        lm_labels[lm_labels[:, :] == self.tokenizer.pad_token_id] = -100\n",
    "\n",
    "        outputs = self(\n",
    "            input_ids=batch[\"source_ids\"],\n",
    "            attention_mask=batch[\"source_mask\"],\n",
    "            lm_labels=lm_labels,\n",
    "            decoder_attention_mask=batch['target_mask']\n",
    "        )\n",
    "\n",
    "        loss = outputs.loss\n",
    "\n",
    "        return loss\n",
    "\n",
    "    def training_step(self, batch, batch_idx):\n",
    "        loss = self._step(batch)\n",
    "        self.log('train_loss', loss, on_step=True, on_epoch=True, prog_bar=True, logger=True)\n",
    "        return loss\n",
    "  \n",
    "    def validation_step(self, batch, batch_idx):\n",
    "        loss = self._step(batch)\n",
    "        self.log('val_loss', loss, on_step=True, on_epoch=True, prog_bar=True, logger=True)\n",
    "        return loss\n",
    "\n",
    "    def configure_optimizers(self):\n",
    "        optimizer = AdamW(self.model.parameters(), lr=self.hparams.learning_rate, eps=self.hparams.adam_epsilon)\n",
    "        scheduler = get_linear_schedule_with_warmup(\n",
    "            optimizer, num_warmup_steps=self.hparams.warmup_steps, num_training_steps=self.hparams.total_steps\n",
    "        )\n",
    "        return [optimizer], [{'scheduler': scheduler, 'interval': 'step'}]\n",
    "\n",
    "    def train_dataloader(self):   \n",
    "        train_dataset = get_dataset(self.tokenizer, 'train', self.n_obs['train'], self.hparams)\n",
    "        return DataLoader(train_dataset, batch_size=self.hparams.train_batch_size, shuffle=True, num_workers=4)\n",
    "\n",
    "    def val_dataloader(self):\n",
    "        validation_dataset = get_dataset(self.tokenizer, 'validation', self.n_obs['validation'], self.hparams)\n",
    "        return DataLoader(validation_dataset, batch_size=self.hparams.eval_batch_size, num_workers=4)\n",
    "\n",
    "    def test_dataloader(self):\n",
    "        test_dataset = get_dataset(self.tokenizer, 'test', self.n_obs['test'], self.hparams)\n",
    "        return DataLoader(test_dataset, batch_size=self.hparams.eval_batch_size, num_workers=4)\n"
   ]
  },
  {
   "cell_type": "code",
   "execution_count": 13,
   "id": "5efb9bd2-25d5-4bc2-a565-8e6e0124c33d",
   "metadata": {},
   "outputs": [],
   "source": [
    "from argparse import Namespace\n",
    "\n",
    "args_dict = {\n",
    "    'model_name_or_path': 't5-large',\n",
    "    'tokenizer_name_or_path': 't5-large',\n",
    "    'max_input_length': 512,\n",
    "    'max_output_length': 512,\n",
    "    'freeze_encoder': False,\n",
    "    'freeze_embeds': False,\n",
    "    'learning_rate': 1e-4,\n",
    "    'weight_decay': 0.0,\n",
    "    'adam_epsilon': 1e-8,\n",
    "    'warmup_steps': 0,\n",
    "    'train_batch_size': 16,\n",
    "    'eval_batch_size': 16,\n",
    "    'num_train_epochs': 5,\n",
    "    'n_train': 2000,  #training samples\n",
    "    'n_val': 400,     # validation samples\n",
    "    'n_test': 400,    #test samples\n",
    "    'gradient_accumulation_steps': 16,\n",
    "    'n_gpu': 1,\n",
    "    'early_stop_callback': False,\n",
    "    'fp_16': False,  \n",
    "    'opt_level': 'O1', \n",
    "    'max_grad_norm': 1.0,\n",
    "    'seed': 42,\n",
    "    #'total_steps': (n_train / train_batch_size / gradient_accumulation_steps) * num_train_epochs\n",
    "    'total_steps': 23\n",
    "}\n",
    "args = Namespace(**args_dict)\n"
   ]
  },
  {
   "cell_type": "code",
   "execution_count": 15,
   "id": "841dab8e-f47f-4769-933b-f88d47493d1a",
   "metadata": {},
   "outputs": [],
   "source": [
    "model = T5FineTuner(args)"
   ]
  },
  {
   "cell_type": "code",
   "execution_count": 17,
   "id": "ca765761-672a-4c13-ad7c-19c830d259d7",
   "metadata": {},
   "outputs": [
    {
     "name": "stderr",
     "output_type": "stream",
     "text": [
      "Trainer will use only 1 of 2 GPUs because it is running inside an interactive / notebook environment. You may try to set `Trainer(devices=2)` but please note that multi-GPU inside interactive / notebook environments is considered experimental and unstable. Your mileage may vary.\n",
      "GPU available: True (cuda), used: True\n",
      "TPU available: False, using: 0 TPU cores\n",
      "IPU available: False, using: 0 IPUs\n",
      "HPU available: False, using: 0 HPUs\n"
     ]
    }
   ],
   "source": [
    "from pytorch_lightning import Trainer\n",
    "trainer = Trainer(\n",
    "    max_epochs=args.num_train_epochs\n",
    ")\n"
   ]
  },
  {
   "cell_type": "code",
   "execution_count": 21,
   "id": "0b48063a-2f6e-406d-ad7c-b4b7b8180496",
   "metadata": {},
   "outputs": [
    {
     "name": "stderr",
     "output_type": "stream",
     "text": [
      "/home/goodone/.local/lib/python3.8/site-packages/pytorch_lightning/callbacks/model_checkpoint.py:639: Checkpoint directory /home/goodone/Desktop/mlhc/lightning_logs/version_3/checkpoints exists and is not empty.\n",
      "LOCAL_RANK: 0 - CUDA_VISIBLE_DEVICES: [0,1]\n",
      "/home/goodone/.local/lib/python3.8/site-packages/transformers/optimization.py:411: FutureWarning: This implementation of AdamW is deprecated and will be removed in a future version. Use the PyTorch implementation torch.optim.AdamW instead, or set `no_deprecation_warning=True` to disable this warning\n",
      "  warnings.warn(\n",
      "\n",
      "  | Name  | Type                       | Params\n",
      "-----------------------------------------------------\n",
      "0 | model | T5ForConditionalGeneration | 60.5 M\n",
      "-----------------------------------------------------\n",
      "60.5 M    Trainable params\n",
      "0         Non-trainable params\n",
      "60.5 M    Total params\n",
      "242.026   Total estimated model params size (MB)\n"
     ]
    },
    {
     "data": {
      "application/vnd.jupyter.widget-view+json": {
       "model_id": "",
       "version_major": 2,
       "version_minor": 0
      },
      "text/plain": [
       "Sanity Checking: |                 | 0/? [00:00<?, ?it/s]"
      ]
     },
     "metadata": {},
     "output_type": "display_data"
    },
    {
     "name": "stderr",
     "output_type": "stream",
     "text": [
      "`Trainer.fit` stopped: `max_epochs=5` reached.\n"
     ]
    }
   ],
   "source": [
    "trainer.fit(model)\n"
   ]
  },
  {
   "cell_type": "code",
   "execution_count": 23,
   "id": "13ace75c-f15f-4323-802a-b6bfe8af971f",
   "metadata": {},
   "outputs": [],
   "source": [
    "model.eval()  # set the model to evaluation mode\n",
    "\n",
    "# Function to generate summary\n",
    "def generate_summary(text, max_length=512):\n",
    "    # Tokenize the input text\n",
    "    inputs =  T5Tokenizer.from_pretrained('t5-small').encode(\"summarize: \" + text, return_tensors=\"pt\", max_length=512, truncation=True)\n",
    "\n",
    "    # Generate summary\n",
    "    summary_ids = model.model.generate(inputs, max_length=max_length, min_length=40, length_penalty=2.0, num_beams=4, early_stopping=True)\n",
    "    \n",
    "    # Decode and return the summary\n",
    "    return T5Tokenizer.from_pretrained('t5-small').decode(summary_ids[0], skip_special_tokens=True)\n"
   ]
  },
  {
   "cell_type": "code",
   "execution_count": 40,
   "id": "69aee839-27e5-40e8-a289-c24816d796d3",
   "metadata": {},
   "outputs": [
    {
     "name": "stdout",
     "output_type": "stream",
     "text": [
      "the 38-year-old was admitted to the NI 9224** service with close neurological monitoring. she underwent coiling of an aneurysm of the left internal capillary. she was taken to the angiography suite on [**2108-9-24**] where she underwent coiling of an aneurysm.\n"
     ]
    }
   ],
   "source": [
    "test_example = pd.read_csv('test_data.csv')\n",
    "input_text = test_example['medical_history'].iloc[115]\n",
    "summary = generate_summary(input_text)\n",
    "print(summary)"
   ]
  },
  {
   "cell_type": "code",
   "execution_count": 42,
   "id": "c74cfa18-5afa-4cbd-82cc-a69c9143b389",
   "metadata": {},
   "outputs": [
    {
     "name": "stdout",
     "output_type": "stream",
     "text": [
      "[**Known firstname **] [**Known lastname 57383**] is a 38-year-old\n",
      "female who is transferred here from an outside hospital for\n",
      "evaluation of questionable subarachnoid hemorrhage with a\n",
      "negative CT.  She notes that one day prior to admission, at\n",
      "approximately 2:30 p.m. her head and neck \"felt funny.\"  It\n",
      "was not painful, and she had had a gradual onset of\n",
      "increasing pain and then had sudden onset 2 hours later at\n",
      "4:30 in the afternoon of pounding whole head headache and\n",
      "neck pain that she describes as the worst of her life.  She\n",
      "also had some photophobia.  She had no fever or chills.  She\n",
      "had no history of trauma.  Lumbar puncture at an outside\n",
      "hospital showed tube number two 117,000 red blood cells and\n",
      "in tube number three 95,000 red cells.  Total protein was\n",
      "241, glucose was 54, and there was no xanthochromia and no\n",
      "opening pressure was recorded.\n",
      "\n",
      "ALLERGIES:  She has no known drug allergies.\n",
      "\n",
      "MEDICATIONS ON ADMISSION:  None.\n",
      "\n",
      "SOCIAL HISTORY:  She does not drink alcohol and is not a\n",
      "nonsmoker.\n",
      "\n",
      "FAMILY HISTORY:  Shows no aneurysms.\n"
     ]
    }
   ],
   "source": [
    "print(test_example['ground_truth_summary'].iloc[115])"
   ]
  },
  {
   "cell_type": "code",
   "execution_count": 6,
   "id": "23b75efe-0be1-41a7-b0ee-7bbfa06afa64",
   "metadata": {},
   "outputs": [],
   "source": [
    "df1= pd.read_csv('../test_data.csv')"
   ]
  },
  {
   "cell_type": "code",
   "execution_count": 10,
   "id": "ccc5991f-60d1-467e-909c-499472facbed",
   "metadata": {},
   "outputs": [
    {
     "data": {
      "text/plain": [
       "\"The patient is a 73 year old\\nmale with a history of coronary artery disease and aortic\\nstenosis who has had a jaw tightness with walking short\\ndistances.  He has been followed by his cardiologist given\\nhis history of coronary artery disease and was discovered to\\nhave aortic stenosis.  This aortic stenosis is followed by\\nechocardiogram.  The patient's coronary history is\\nsignificant for percutaneous transluminal coronary\\nangioplasty with stent to obtuse marginal one.  This\\npercutaneous transluminal coronary angioplasty was\\ncomplicated by formation of a right femoral AV fistula and\\npseudoaneurysm which eventually required surgical repair.\\nCardiac catheterization in [**2196-12-7**], showed 80 percent\\nin-stent restenosis of the obtuse marginal one which was\\ntreated with roto.  Cardiac catheterization in [**2198-1-6**],\\nshowed 30 percent in-stent restenosis of obtuse marginal one.\\nAlso at that time, the patient was discovered to have a\\nmoderate to severe aortic stenosis with a mean gradient of 26\\nmmHg.  Ejection fraction was 61 percent at the time.  The\\npatient was followed by echocardiogram and echocardiogram in\\n[**2199-11-6**], showed progression of the aortic stenosis with\\na mean gradient at 64 mmHg.  The aortic valve area was\\ncalculated to be 0.9 with preserved left ventricular\\nfunction.  Cardiac catheterization done [**2200-6-18**], showed a\\nworsening of the aortic stenosis.  Although the mean gradient\\nwas calculated to be 48 mmHg, the calculated valve area was\\n0.8 centimeter square.  At this time, the coronary\\nangiography showed the left main to be normal.  The left\\nanterior descending coronary artery showed mildly diffuse\\ndisease with discrete 40 to 50 percent midstenosis.  The left\\ncircumflex had mild diffuse disease at 40 percent in-stent\\nstenosis and right coronary artery had no angiographically\\nsignificant obstruction.  Left ventricular function was\\npreserved at 65 percent with no regional wall motion\\nabnormality.  Given these findings, the patient was seen by\\ncardiac surgery for surgical intervention.  Based on the\\nfindings, the patient agreed to undergo aortic valve\\nreplacement and coronary artery bypass graft at the same\\ntime.\""
      ]
     },
     "execution_count": 10,
     "metadata": {},
     "output_type": "execute_result"
    }
   ],
   "source": [
    "df1['ground_truth_summary'].iloc[123]"
   ]
  },
  {
   "cell_type": "code",
   "execution_count": 11,
   "id": "ba54980d-c59a-4d32-af82-042fba0c7394",
   "metadata": {},
   "outputs": [
    {
     "data": {
      "text/plain": [
       "'Admission Date: [**2200-6-25**]        Discharge Date: [**2200-6-29**]\\n\\nDate of Birth:  [**2126-9-17**]        Sex:  M\\n\\nService:  CSU\\n\\n\\nPAST MEDICAL HISTORY:\\n1. Coronary artery disease, status post percutaneous\\n   transluminal coronary angioplasty with multiple in-stent\\n   restenoses complicated by right femoral pseudoaneurysm\\n   requiring surgical repair, worsening aortic stenosis.\\n2. History of hypertension.\\n3. History of diabetes mellitus.\\n4. History of hypercholesterolemia.\\n\\n\\nALLERGIES:  The patient denies any allergies to medications.\\n\\nMEDICATIONS ON ADMISSION:\\n1. Aspirin 81 mg p.o. once daily.\\n2. Lipitor 10 mg p.o. once daily.\\n3. Lisinopril 40 mg p.o. once daily.\\n4. Atenolol 50 mg p.o. once daily.\\n5. Glipizide 10 mg p.o. once daily.\\n\\n\\nSOCIAL HISTORY:  The patient denies any smoking and reports\\noccasional alcohol use.\\n\\nREVIEW OF SYMPTOMS:  Otherwise, review of systems is\\nunremarkable.\\n\\nPHYSICAL EXAMINATION:  The patient was afebrile with stable\\nvital signs and not in apparent distress, awake, alert and\\noriented times three.  The head examination was normocephalic\\nand atraumatic.  The pupils are equal, round and reactive to\\nlight and accommodation.  Extraocular movements were intact.\\nThe neck was supple with evidence of cervical\\nlymphadenopathy.  There was no thyromegaly.  There was\\nthought to be carotid bruit appreciated.  The lungs are clear\\nto auscultation bilaterally .  Cardiac examination showed\\nregular rate and rhythm, S1 and S2, grade III/VI systolic\\nejection murmur appreciated.  The abdomen was with bowel\\nsounds, soft, nontender, nondistended, without\\nhepatosplenomegaly.  The extremities were without cyanosis,\\nclubbing or edema.  The pulses were two plus bilaterally at\\ndorsalis pedis.\\n\\nLABORATORY DATA:  Preoperative workup included carotid\\nultrasound which was consistent with a right sided 70 to 79\\npercent internal carotid artery stenosis with decreased\\nvelocity in the right vertebral artery.  The left internal\\ncarotid artery showed less than 40 percent stenosis.\\n\\nHOSPITAL COURSE:  The patient presented to the operating room\\non [**2200-6-25**], for aortic valve replacement with number 21 CE\\ntissue and coronary artery bypass graft times one, left\\ninternal mammary artery to left anterior descending coronary\\nartery.  The patient underwent this surgery without any\\nimmediate complication.  Please see the operative report for\\nfurther details.  The patient\\'s postoperative course was\\nrather uncomplicated.  The patient was easily extubated on\\npostoperative day zero.  The patient was also to start on\\np.o. Lopressor by postoperative day one and by postoperative\\nday number two, the patient was on the floor without any\\nevidence of arrhythmia.  The patient\\'s chest tube and\\nepicardial pacing wires were discontinued on postoperative\\nday number two.  The patient\\'s p.o. Lopressor was increased\\nuntil good heart rate control and blood pressure control was\\nachieved.  The patient\\'s fingerstick levels were poorly\\ncontrolled on preoperative Glucotrol doses and [**Last Name (un) **]\\nconsultation was called.  The patient was evaluated by [**Last Name (un) **]\\nteam and was started on 20 units of Lantus at nighttime with\\ncoverage with sliding scale.  The patient was also advised to\\ntake his Glucotrol 5 mg twice a day.  On the day of\\ndischarge, the patient was afebrile with stable vital signs.\\nThe patient was awake, alert and oriented times three and not\\nin apparent distress with supple neck.  Cardiac examination\\nrevealed regular rate and rhythm, S1 and S2, systolic\\nejection grade II/VI.  The lungs were clear to auscultation\\nbilaterally .  The abdomen was soft, nontender, nondistended.\\nThe sternum was clean, dry and intact and stable.  The\\npatient had bilateral lower extremity edema, mildly pitting\\nto midtibial levels, and decreasing.  A chest x-ray three\\ndays prior to discharge showed clear lung fields with no\\npleural effusion and no vascular congestion or pneumothorax.\\n\\nDISCHARGE STATUS:  The patient was discharged home.\\n\\nCONDITION ON DISCHARGE:  Good.\\n\\nDISCHARGE DIAGNOSES:\\n1. Coronary artery disease.\\n2. Severe aortic stenosis, status post aortic valve\\n   replacement with number 21 CE tissue and coronary artery\\n   bypass graft times one, left internal mammary artery to\\n   left anterior descending coronary artery.\\n3. Hypertension.\\n4. Hypercholesterolemia.\\n5. Diabetes mellitus type 2.\\n\\n\\nMEDICATIONS ON DISCHARGE:\\n1. Lopressor 100 mg p.o. twice a day.\\n2. Aspirin enteric coated 325 mg p.o. once daily.\\n3. Lipitor 10 mg p.o. once daily.\\n4. Vicodin 500 mg p.o. q6hours p.r.n. pain.\\n5. Colace 100 mg p.o. twice a day.\\n6. Ibuprofen 600 mg p.o. q6hours.\\n7. Milk of Magnesia.\\n8. Lasix 20 mg p.o. twice a day for seven days.\\n9. Potassium Chloride 30 mEq p.o. twice a day for seven days.\\n10.      Glipizide 5 mg p.o. twice a day.\\n11.      Lantus 20 units q.h.s.\\n12.      Humalog sliding scale as per directions.\\n\\n\\nFOLLOW UP:  The patient is to follow-up with Dr. [**Last Name (STitle) 3497**]\\n(cardiology) in approximately two weeks and is to follow-up\\nwith Dr. [**Last Name (STitle) 70**] in approximately six weeks.  The patient\\nis to follow-up with [**Hospital **] Clinic as scheduled.\\n\\n\\n\\n\\n\\n                        [**First Name11 (Name Pattern1) **] [**Last Name (NamePattern4) 5662**], [**MD Number(1) 5663**]\\n\\nDictated By:[**Last Name (NamePattern1) 12164**]\\nMEDQUIST36\\nD:  [**2200-6-29**] 10:41:28\\nT:  [**2200-6-29**] 11:52:01\\nJob#:  [**Job Number 33041**]\\n Sinus rhythm. Right bundle-branch block. Borderline left axis deviation is\\nnon-specific, but consider left anterior fascicular block. Modest non-specific\\nanterolateral ST-T wave changes may be, in part, primary. Clinical correlation\\nis suggested. Since the previous tracing of [**2200-6-18**] ST-T wave abnormalities\\nhave decreased.\\n\\n Sinus bradycardia. Right bundle-branch block. Left atrial abnormality.\\nNon-specific anterolateral T wave inversions. Compared to the previous tracing\\nof [**2198-1-31**] T wave abnormalities have appeared.\\n\\n [**2200-6-18**] 5:19 PM\\n CHEST (PRE-OP PA & LAT)                                         Clip # [**Clip Number (Radiology) 17202**]\\n Reason: r/o inf\\n ______________________________________________________________________________\\n [**Hospital 4**] MEDICAL CONDITION:\\n  73 year old man with\\n REASON FOR THIS EXAMINATION:\\n  r/o inf\\n ______________________________________________________________________________\\n                                 FINAL REPORT\\n HISTORY:  Preop for aortic valve repair.\\n\\n PA AND LATERAL CHEST:  There are no studies for comparison.  There is no\\n vascular congestion, pleural effusions, infiltrates, or pneumothorax.  The\\n heart is within normal limits in size.  The aorta is slightly unfolded.  There\\n are degenerative changes in the spine.  There are several ill-defined small\\n pulmonary nodules within the left lung.\\n\\n [**2200-6-25**] 1:40 PM\\n CHEST (PORTABLE AP)                                             Clip # [**Clip Number (Radiology) 6693**]\\n Reason: s/p AVR/CABG r/o effusion/PTX\\n Admitting Diagnosis: AORTIC STENOSIS\\\\AORTIC VALVE REPLACEMENT; ? CABG/SDA\\n ______________________________________________________________________________\\n [**Hospital 2**] MEDICAL CONDITION:\\n  73 year old man with\\n REASON FOR THIS EXAMINATION:\\n  s/p AVR/CABG r/o effusion/PTX\\n ______________________________________________________________________________\\n                                 FINAL REPORT\\n INDICATION:  Aortic valve repair and CABG.\\n\\n SUPINE AP CHEST:  Comparison is made with [**2200-6-18**].  There is evidence of\\n a CABG.  The PA catheter via a right IJ approach is well positioned, although\\n the exact tip is not visualized.  The NG tube is within the stomach.  There is\\n a left chest tube and mediastinal drain.  The endotracheal tube is well\\n positioned.  Minimal left basilar atelectasis.  No pneumothorax or pleural\\n effusion, or vascular congestion.  Slight left ventricular enlargement.\\n\\n IMPRESSION:  Satisfactory placement of tubes and lines with left basilar\\n atelectasis.\\n\\n [**2200-6-26**] 7:11 AM\\n CHEST (PORTABLE AP)                                             Clip # [**Clip Number (Radiology) 6814**]\\n Reason: assess for infiltrates/effusions\\n Admitting Diagnosis: AORTIC STENOSIS\\\\AORTIC VALVE REPLACEMENT; ? CABG/SDA\\n ______________________________________________________________________________\\n [**Hospital 2**] MEDICAL CONDITION:\\n   73 year old man s/p avr/cabg\\n REASON FOR THIS EXAMINATION:\\n  assess for infiltrates/effusions\\n ______________________________________________________________________________\\n                                 FINAL REPORT\\n HISTORY:  CABG\\n\\n AP CHEST: Comparison is made with 1 day prior.  The NG tube and endotracheal\\n tubes have been removed.  The right-sided PA catheter remains.  No\\n pneumothorax.  The left chest tube and mediastinal drains are still present.\\n Mild left retrocardiac atelectasis.  No pleural effusions or vascular\\n congestion, or pneumothorax.\\n\\n IMPRESSION:  Mild left basilar atelectasis.\\n\\n [**2200-6-18**] 1:36 PM\\n CAROTID SERIES COMPLETE                                         Clip # [**Clip Number (Radiology) 17135**]\\n Reason: r/o stenosis pre-op CABG/AVR\\n ______________________________________________________________________________\\n [**Hospital 4**] MEDICAL CONDITION:\\n  73 year old man with CAD/AS\\n REASON FOR THIS EXAMINATION:\\n  r/o stenosis pre-op CABG/AVR\\n ______________________________________________________________________________\\n                                 FINAL REPORT\\n INDICATION: 73-year-old male preoperative CABG.\\n\\n REFERRING PHYSICIAN: [**Last Name (NamePattern4) **]. [**Last Name (STitle) 17136**].\\n\\n On the right, peak systolic velocities measure 256, 71 and 140 cm/sec in the\\n ICA, CCA and ECA respectively. The ratio measures 3.6. There is significant\\n plaque visualized in the origins of the right internal and external carotid\\n arteries. Findings correspond to a 70 to 79% right internal carotid artery\\n stenosis.\\n\\n On the left, peak systolic velocities measure 80, 93 and 117 cm/sec in the\\n ICA, CCA and ECA respectively. The ratio measures 0.86. There is a mild amount\\n of plaque visualized in the internal and external carotid arteries. The\\n findings correspond to a less than 40% internal carotid artery stenosis.\\n\\n Antegrade flow is detected in the vertebral arteries, although significantly\\n decreased on the right (16 cm/sec versus 53 cm/sec in the left vertebral\\n artery).\\n\\n IMPRESSION: Preoperative coronary artery bypass graft study demonstrating a\\n right 70 to 79% internal carotid artery stenosis, with decreased velocities in\\n the right vertebral artery. Left less than 40% internal carotid artery\\n stenosis.\\n\\n RN progress note\\nneuro: AAO x 3; no focal dificits. Anxious, coop.  Med q 4h w/ MSO4 for sternal pain.\\n\\nCV: NSR, MFVEA, short salvos AIVR; HR 80-90\\'s.  SBP 100-130 off pressors. A/V wires S/C. CI by FICK > 2.5.  CVP 7-9.  PAD 10-15.  Pulses by Doppler.\\n\\nPulm:  BS essentially CTAb, crackles right base this am.  SpO2>95 on 3L/NP.  SvO2 63-65.  CT 10-30cc/hr past 6hr, s/s drng; no air leak.\\nPt feels that he \"chokes\" w/ coughing. Airway is clear w/o stridor or wheeze.  IS, CDB help pt w/ fear of choking.\\n\\nGI: abd soft, non-tender; hypo BS. Tol sips/chips. Med early eve w/ reglan for nausea; no further c/o\\n\\nGU: F/C urine amber, clear; UOP 60cc/hr past 6 hr.\\n\\nMS/derm:  sternum stable; wound clean, scant serous under trans dsg. Skin intact.\\n\\nEndo: insulin gtt to maintain BG 80-110.\\n\\nLabs: H/H stable, 28/9. Lytes wnl.\\n\\nP: d/c S/G cath. OOB, increase activity and DAT.  Start lopressor. Follow BG, H/H, lytes.\\n\\n\\n PT ARRIVED [**Name (NI) 204**] AT 1340 S/P AVR AND CABGX1.  SEE FHP FOR DETAILS\\n\\nNEURO:  ARRIVED ON PROP. WHICH WAS TURNED OFF AND PT [**Name (NI) 2038**]. SLOW TO WAKE.  MAE. FOLLOWS COMMANDS. ALERT AND ORIENTEDX3\\nCV: ARRIVED ON NEO LOW DOSE.  INITIAL HCT 23. TX 1U PRBC. REPEAT HCT PNEDING.  ACT 150 TX W/ PROTAMINE 50MG X1.  CT OTPUT INITIALLY 180-200 FIRST 2 HRS NOW APPROX 30-60CC/HR.  NO LEAK.  PLT 99.  DOPPLERABLE PEDAL PULSES.  TEMP PROBE ON SWAN STOPPED WORKING.  UNABLE TO DO THERMODILUTION OUTPUT. CURRENTLY DOING FICKS W/ CI>2.1.  BP RESPONDS WELL TO IVF.  THICK VENT PER ANEST.  RECIEVED TOTAL APPROX 750CC/LR AFTER ARRIVAL TO UNIT. HR CURRENTLY NSR-ST 90\\'S-105. NO ECOTPY. 2A 2V WIRES BOTH SENSE AND CAPTURE. SET ADEMAND 66\\nRESP: VENT WEANED AND PT EXTUBATED AT 1745.  SLIGHT RESP ACIDOSIS ON ABG BUT PT [**Name (NI) 1136**].  SX SCANT THCK WHITE. CURRENTLY ON 4L NC W/ SATS >95%.\\nGI:  OGT DC\\'D W/ EXTUBATION.  SMALL AMT THICK BILIOUS. NO BS. ABD SOFT. DENIES NAUSEA. CARAFATE GIVEN X1\\nGU: UOP>100CC/HR LIGHT YELLOW\\nENDO:  OUT OR OR ON INSULIN GTT. PT RECIEVED MULTIPLE BOLUSES IN OR. TITRATING GTT PER PROTOCOL.\\nPLAN:  CONT ASSESS HEMODYNAMICS. FOLLOW UP WITH REPEAT HCT/PLT. ASSESS S/S BLEED. ENCOURAGE C&DB.  FOLLOW BS Q1HR PER PROTOCOL.  WEAN NEO TO KEEP MAP>60.  WEAN 02 AND ADVANCE PO\\'S AS TOL.\\n\\n'"
      ]
     },
     "execution_count": 11,
     "metadata": {},
     "output_type": "execute_result"
    }
   ],
   "source": [
    "df1['medical_history'].iloc[123]"
   ]
  }
 ],
 "metadata": {
  "kernelspec": {
   "display_name": "Python 3 (ipykernel)",
   "language": "python",
   "name": "python3"
  },
  "language_info": {
   "codemirror_mode": {
    "name": "ipython",
    "version": 3
   },
   "file_extension": ".py",
   "mimetype": "text/x-python",
   "name": "python",
   "nbconvert_exporter": "python",
   "pygments_lexer": "ipython3",
   "version": "3.8.18"
  }
 },
 "nbformat": 4,
 "nbformat_minor": 5
}
