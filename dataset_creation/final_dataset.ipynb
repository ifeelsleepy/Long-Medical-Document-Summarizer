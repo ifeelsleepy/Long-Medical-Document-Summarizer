{
 "cells": [
  {
   "cell_type": "code",
   "execution_count": 1,
   "metadata": {},
   "outputs": [],
   "source": [
    "import pandas as pd"
   ]
  },
  {
   "cell_type": "code",
   "execution_count": 2,
   "metadata": {},
   "outputs": [
    {
     "name": "stdout",
     "output_type": "stream",
     "text": [
      "Defaulting to user installation because normal site-packages is not writeable\n",
      "Requirement already satisfied: gdown in ./.local/lib/python3.8/site-packages (4.7.1)\n",
      "Requirement already satisfied: beautifulsoup4 in ./.local/lib/python3.8/site-packages (from gdown) (4.12.2)\n",
      "Requirement already satisfied: tqdm in ./.local/lib/python3.8/site-packages (from gdown) (4.66.1)\n",
      "Requirement already satisfied: filelock in /share/apps/python/3.8.6/intel/lib/python3.8/site-packages (from gdown) (3.0.12)\n",
      "Requirement already satisfied: six in /share/apps/python/3.8.6/intel/lib/python3.8/site-packages (from gdown) (1.15.0)\n",
      "Requirement already satisfied: requests[socks] in /share/apps/python/3.8.6/intel/lib/python3.8/site-packages (from gdown) (2.24.0)\n",
      "Requirement already satisfied: soupsieve>1.2 in ./.local/lib/python3.8/site-packages (from beautifulsoup4->gdown) (2.5)\n",
      "Requirement already satisfied: urllib3!=1.25.0,!=1.25.1,<1.26,>=1.21.1 in /share/apps/python/3.8.6/intel/lib/python3.8/site-packages (from requests[socks]->gdown) (1.25.10)\n",
      "Requirement already satisfied: chardet<4,>=3.0.2 in /share/apps/python/3.8.6/intel/lib/python3.8/site-packages (from requests[socks]->gdown) (3.0.4)\n",
      "Requirement already satisfied: idna<3,>=2.5 in /share/apps/python/3.8.6/intel/lib/python3.8/site-packages (from requests[socks]->gdown) (2.10)\n",
      "Requirement already satisfied: certifi>=2017.4.17 in /share/apps/python/3.8.6/intel/lib/python3.8/site-packages (from requests[socks]->gdown) (2020.6.20)\n",
      "Requirement already satisfied: PySocks!=1.5.7,>=1.5.6; extra == \"socks\" in ./.local/lib/python3.8/site-packages (from requests[socks]->gdown) (1.7.1)\n",
      "\u001b[33mWARNING: You are using pip version 20.2.3; however, version 23.3.1 is available.\n",
      "You should consider upgrading via the '/share/apps/python/3.8.6/intel/bin/python -m pip install --upgrade pip' command.\u001b[0m\n"
     ]
    }
   ],
   "source": [
    "!pip install gdown"
   ]
  },
  {
   "cell_type": "code",
   "execution_count": 46,
   "metadata": {},
   "outputs": [
    {
     "name": "stdout",
     "output_type": "stream",
     "text": [
      "Defaulting to user installation because normal site-packages is not writeable\n",
      "Collecting scikit-learn\n",
      "  Downloading scikit_learn-1.3.2-cp38-cp38-manylinux_2_17_x86_64.manylinux2014_x86_64.whl (11.1 MB)\n",
      "\u001b[K     |████████████████████████████████| 11.1 MB 30.0 MB/s eta 0:00:01\n",
      "\u001b[?25hCollecting joblib>=1.1.1\n",
      "  Downloading joblib-1.3.2-py3-none-any.whl (302 kB)\n",
      "\u001b[K     |████████████████████████████████| 302 kB 110.5 MB/s eta 0:00:01\n",
      "\u001b[?25hRequirement already satisfied: scipy>=1.5.0 in /share/apps/python/3.8.6/intel/lib/python3.8/site-packages/scipy-1.5.2-py3.8-linux-x86_64.egg (from scikit-learn) (1.5.2)\n",
      "Requirement already satisfied: numpy<2.0,>=1.17.3 in /share/apps/python/3.8.6/intel/lib/python3.8/site-packages/numpy-1.19.2-py3.8-linux-x86_64.egg (from scikit-learn) (1.19.2)\n",
      "Collecting threadpoolctl>=2.0.0\n",
      "  Downloading threadpoolctl-3.2.0-py3-none-any.whl (15 kB)\n",
      "Installing collected packages: joblib, threadpoolctl, scikit-learn\n",
      "Successfully installed joblib-1.3.2 scikit-learn-1.3.2 threadpoolctl-3.2.0\n",
      "\u001b[33mWARNING: You are using pip version 20.2.3; however, version 23.3.1 is available.\n",
      "You should consider upgrading via the '/share/apps/python/3.8.6/intel/bin/python -m pip install --upgrade pip' command.\u001b[0m\n"
     ]
    }
   ],
   "source": [
    "!pip install scikit-learn"
   ]
  },
  {
   "cell_type": "code",
   "execution_count": 2,
   "metadata": {},
   "outputs": [
    {
     "name": "stderr",
     "output_type": "stream",
     "text": [
      "Downloading...\n",
      "From (uriginal): https://drive.google.com/uc?id=1Osrxy76okUKgZ1d5eYpcnTpvLephlULB\n",
      "From (redirected): https://drive.google.com/uc?id=1Osrxy76okUKgZ1d5eYpcnTpvLephlULB&confirm=t&uuid=68d6b528-fba3-4bf7-961a-08422b14a19b\n",
      "To: /home/sk10502/filtered_data.csv\n",
      "100%|██████████| 4.00G/4.00G [00:25<00:00, 154MB/s] \n"
     ]
    },
    {
     "data": {
      "text/plain": [
       "'filtered_data.csv'"
      ]
     },
     "execution_count": 2,
     "metadata": {},
     "output_type": "execute_result"
    }
   ],
   "source": [
    "import gdown\n",
    "\n",
    "url = 'https://drive.google.com/uc?id=1Osrxy76okUKgZ1d5eYpcnTpvLephlULB'\n",
    "output = 'filtered_data.csv'\n",
    "gdown.download(url, output, quiet=False)\n"
   ]
  },
  {
   "cell_type": "code",
   "execution_count": 3,
   "metadata": {},
   "outputs": [
    {
     "name": "stdout",
     "output_type": "stream",
     "text": [
      "Filesystem        Size  Used Avail Use% Mounted on\r\n",
      "devtmpfs          189G     0  189G   0% /dev\r\n",
      "tmpfs             189G  4.4M  189G   1% /dev/shm\r\n",
      "tmpfs             189G  2.9M  189G   1% /run\r\n",
      "tmpfs             189G     0  189G   0% /sys/fs/cgroup\r\n",
      "/dev/sda2          79G   27G   52G  35% /\r\n",
      "/dev/sda3         816G  5.8G  810G   1% /state/partition1\r\n",
      "/dev/sda1         256M  5.8M  250M   3% /boot/efi\r\n",
      "apps              2.1T  988G  1.1T  47% /share/apps\r\n",
      "home               81T   49T   32T  61% /home\r\n",
      "scratch           4.7P  2.9P  1.8P  62% /scratch\r\n",
      "10.0.7.100:/vast  750T  494T  257T  66% /vast\r\n"
     ]
    }
   ],
   "source": [
    "!df -h"
   ]
  },
  {
   "cell_type": "code",
   "execution_count": 4,
   "metadata": {},
   "outputs": [
    {
     "data": {
      "text/plain": [
       "'/home/sk10502'"
      ]
     },
     "execution_count": 4,
     "metadata": {},
     "output_type": "execute_result"
    }
   ],
   "source": [
    "pwd"
   ]
  },
  {
   "cell_type": "code",
   "execution_count": 5,
   "metadata": {},
   "outputs": [
    {
     "name": "stdout",
     "output_type": "stream",
     "text": [
      "Number of rows in the CSV file: 91670888\n"
     ]
    }
   ],
   "source": [
    "file_path = 'filtered_data.csv'\n",
    "\n",
    "with open(file_path, 'r') as file:\n",
    "    row_count = sum(1 for row in file)\n",
    "\n",
    "print(f\"Number of rows in the CSV file: {row_count}\")\n"
   ]
  },
  {
   "cell_type": "code",
   "execution_count": 6,
   "metadata": {},
   "outputs": [
    {
     "name": "stderr",
     "output_type": "stream",
     "text": [
      "/share/apps/python/3.8.6/intel/lib/python3.8/site-packages/IPython/core/interactiveshell.py:3145: DtypeWarning: Columns (4,5) have mixed types.Specify dtype option on import or set low_memory=False.\n",
      "  has_raised = await self.run_ast_nodes(code_ast.body, cell_name,\n"
     ]
    }
   ],
   "source": [
    "filtered_df = pd.read_csv('filtered_data.csv')"
   ]
  },
  {
   "cell_type": "code",
   "execution_count": 7,
   "metadata": {
    "scrolled": true
   },
   "outputs": [],
   "source": [
    "sorted_data = filtered_df.sort_values(by=\"SUBJECT_ID\")"
   ]
  },
  {
   "cell_type": "code",
   "execution_count": 8,
   "metadata": {},
   "outputs": [
    {
     "data": {
      "text/html": [
       "<div>\n",
       "<style scoped>\n",
       "    .dataframe tbody tr th:only-of-type {\n",
       "        vertical-align: middle;\n",
       "    }\n",
       "\n",
       "    .dataframe tbody tr th {\n",
       "        vertical-align: top;\n",
       "    }\n",
       "\n",
       "    .dataframe thead th {\n",
       "        text-align: right;\n",
       "    }\n",
       "</style>\n",
       "<table border=\"1\" class=\"dataframe\">\n",
       "  <thead>\n",
       "    <tr style=\"text-align: right;\">\n",
       "      <th></th>\n",
       "      <th>ROW_ID</th>\n",
       "      <th>SUBJECT_ID</th>\n",
       "      <th>HADM_ID</th>\n",
       "      <th>CHARTDATE</th>\n",
       "      <th>CHARTTIME</th>\n",
       "      <th>STORETIME</th>\n",
       "      <th>CATEGORY</th>\n",
       "      <th>DESCRIPTION</th>\n",
       "      <th>CGID</th>\n",
       "      <th>ISERROR</th>\n",
       "      <th>TEXT</th>\n",
       "    </tr>\n",
       "  </thead>\n",
       "  <tbody>\n",
       "    <tr>\n",
       "      <th>4322</th>\n",
       "      <td>4310</td>\n",
       "      <td>23</td>\n",
       "      <td>152223.0</td>\n",
       "      <td>2153-09-08</td>\n",
       "      <td>NaN</td>\n",
       "      <td>NaN</td>\n",
       "      <td>Discharge summary</td>\n",
       "      <td>Report</td>\n",
       "      <td>NaN</td>\n",
       "      <td>NaN</td>\n",
       "      <td>Admission Date:  [**2153-9-3**]              D...</td>\n",
       "    </tr>\n",
       "    <tr>\n",
       "      <th>1300638</th>\n",
       "      <td>1260823</td>\n",
       "      <td>23</td>\n",
       "      <td>152223.0</td>\n",
       "      <td>2153-09-04</td>\n",
       "      <td>2153-09-04 15:05:00</td>\n",
       "      <td>2153-09-04 15:07:00</td>\n",
       "      <td>Nursing/other</td>\n",
       "      <td>Report</td>\n",
       "      <td>14606.0</td>\n",
       "      <td>NaN</td>\n",
       "      <td>UPDATE\\nD: PT SBP UP ONCE LOPRESSOR EFFECTS DI...</td>\n",
       "    </tr>\n",
       "    <tr>\n",
       "      <th>1300636</th>\n",
       "      <td>1260821</td>\n",
       "      <td>23</td>\n",
       "      <td>152223.0</td>\n",
       "      <td>2153-09-04</td>\n",
       "      <td>2153-09-04 05:51:00</td>\n",
       "      <td>2153-09-04 06:12:00</td>\n",
       "      <td>Nursing/other</td>\n",
       "      <td>Report</td>\n",
       "      <td>14967.0</td>\n",
       "      <td>NaN</td>\n",
       "      <td>CSRU NSG:\\n\\nNEURO:  A&amp;OX3, appropriate, speec...</td>\n",
       "    </tr>\n",
       "    <tr>\n",
       "      <th>391613</th>\n",
       "      <td>388380</td>\n",
       "      <td>23</td>\n",
       "      <td>124321.0</td>\n",
       "      <td>2157-10-22</td>\n",
       "      <td>2157-10-22 07:29:00</td>\n",
       "      <td>2157-10-22 10:06:40</td>\n",
       "      <td>Physician</td>\n",
       "      <td>Intensivist Note</td>\n",
       "      <td>15420.0</td>\n",
       "      <td>NaN</td>\n",
       "      <td>SICU\\n   HPI:\\n   75yo RHM with CAD s/p CABG x...</td>\n",
       "    </tr>\n",
       "    <tr>\n",
       "      <th>1145912</th>\n",
       "      <td>1132048</td>\n",
       "      <td>23</td>\n",
       "      <td>NaN</td>\n",
       "      <td>2158-05-22</td>\n",
       "      <td>2158-05-22 14:12:00</td>\n",
       "      <td>NaN</td>\n",
       "      <td>Radiology</td>\n",
       "      <td>MR HEAD W &amp; W/O CONTRAST</td>\n",
       "      <td>NaN</td>\n",
       "      <td>NaN</td>\n",
       "      <td>[**2158-5-22**] 2:12 PM\\n MR HEAD W &amp; W/O CONT...</td>\n",
       "    </tr>\n",
       "    <tr>\n",
       "      <th>1300426</th>\n",
       "      <td>1260819</td>\n",
       "      <td>23</td>\n",
       "      <td>152223.0</td>\n",
       "      <td>2153-09-03</td>\n",
       "      <td>2153-09-03 18:19:00</td>\n",
       "      <td>2153-09-03 18:36:00</td>\n",
       "      <td>Nursing/other</td>\n",
       "      <td>Report</td>\n",
       "      <td>14962.0</td>\n",
       "      <td>NaN</td>\n",
       "      <td>csru update\\ncvs: aiming for sbp 90-110, neo t...</td>\n",
       "    </tr>\n",
       "    <tr>\n",
       "      <th>867104</th>\n",
       "      <td>876552</td>\n",
       "      <td>23</td>\n",
       "      <td>152223.0</td>\n",
       "      <td>2153-09-03</td>\n",
       "      <td>2153-09-03 13:26:00</td>\n",
       "      <td>NaN</td>\n",
       "      <td>Radiology</td>\n",
       "      <td>CHEST (PORTABLE AP)</td>\n",
       "      <td>NaN</td>\n",
       "      <td>NaN</td>\n",
       "      <td>[**2153-9-3**] 1:26 PM\\n CHEST (PORTABLE AP)  ...</td>\n",
       "    </tr>\n",
       "    <tr>\n",
       "      <th>200580</th>\n",
       "      <td>209956</td>\n",
       "      <td>24</td>\n",
       "      <td>161859.0</td>\n",
       "      <td>2139-06-07</td>\n",
       "      <td>NaN</td>\n",
       "      <td>NaN</td>\n",
       "      <td>ECG</td>\n",
       "      <td>Report</td>\n",
       "      <td>NaN</td>\n",
       "      <td>NaN</td>\n",
       "      <td>Sinus rhythm\\nPossible inferior infarct - age ...</td>\n",
       "    </tr>\n",
       "    <tr>\n",
       "      <th>200350</th>\n",
       "      <td>209715</td>\n",
       "      <td>24</td>\n",
       "      <td>161859.0</td>\n",
       "      <td>2139-06-08</td>\n",
       "      <td>NaN</td>\n",
       "      <td>NaN</td>\n",
       "      <td>ECG</td>\n",
       "      <td>Report</td>\n",
       "      <td>NaN</td>\n",
       "      <td>NaN</td>\n",
       "      <td>Sinus bradycardia\\nModest nonspecific inferior...</td>\n",
       "    </tr>\n",
       "    <tr>\n",
       "      <th>27664</th>\n",
       "      <td>24525</td>\n",
       "      <td>24</td>\n",
       "      <td>161859.0</td>\n",
       "      <td>2139-06-09</td>\n",
       "      <td>NaN</td>\n",
       "      <td>NaN</td>\n",
       "      <td>Discharge summary</td>\n",
       "      <td>Report</td>\n",
       "      <td>NaN</td>\n",
       "      <td>NaN</td>\n",
       "      <td>Admission Date:  [**2139-6-6**]              D...</td>\n",
       "    </tr>\n",
       "    <tr>\n",
       "      <th>1298962</th>\n",
       "      <td>1260824</td>\n",
       "      <td>24</td>\n",
       "      <td>161859.0</td>\n",
       "      <td>2139-06-07</td>\n",
       "      <td>2139-06-07 03:19:00</td>\n",
       "      <td>2139-06-07 03:33:00</td>\n",
       "      <td>Nursing/other</td>\n",
       "      <td>Report</td>\n",
       "      <td>17053.0</td>\n",
       "      <td>NaN</td>\n",
       "      <td>ccu nsg admit note.\\n[**2073-6-4**] yo male ad...</td>\n",
       "    </tr>\n",
       "    <tr>\n",
       "      <th>79140</th>\n",
       "      <td>78797</td>\n",
       "      <td>24</td>\n",
       "      <td>161859.0</td>\n",
       "      <td>2139-06-08</td>\n",
       "      <td>NaN</td>\n",
       "      <td>NaN</td>\n",
       "      <td>Echo</td>\n",
       "      <td>Report</td>\n",
       "      <td>NaN</td>\n",
       "      <td>NaN</td>\n",
       "      <td>PATIENT/TEST INFORMATION:\\nIndication: Left ve...</td>\n",
       "    </tr>\n",
       "    <tr>\n",
       "      <th>1299144</th>\n",
       "      <td>1260831</td>\n",
       "      <td>25</td>\n",
       "      <td>129635.0</td>\n",
       "      <td>2160-11-04</td>\n",
       "      <td>2160-11-04 05:26:00</td>\n",
       "      <td>2160-11-04 05:40:00</td>\n",
       "      <td>Nursing/other</td>\n",
       "      <td>Report</td>\n",
       "      <td>18592.0</td>\n",
       "      <td>NaN</td>\n",
       "      <td>S. I feel better\\nO. Neuro oob to chair withou...</td>\n",
       "    </tr>\n",
       "    <tr>\n",
       "      <th>1298945</th>\n",
       "      <td>1260827</td>\n",
       "      <td>25</td>\n",
       "      <td>129635.0</td>\n",
       "      <td>2160-11-02</td>\n",
       "      <td>2160-11-02 19:07:00</td>\n",
       "      <td>2160-11-02 19:10:00</td>\n",
       "      <td>Nursing/other</td>\n",
       "      <td>Report</td>\n",
       "      <td>20818.0</td>\n",
       "      <td>NaN</td>\n",
       "      <td>ADDENDUM: Post cath Pt vomitted approx 50cc br...</td>\n",
       "    </tr>\n",
       "    <tr>\n",
       "      <th>166397</th>\n",
       "      <td>181637</td>\n",
       "      <td>25</td>\n",
       "      <td>129635.0</td>\n",
       "      <td>2160-11-03</td>\n",
       "      <td>NaN</td>\n",
       "      <td>NaN</td>\n",
       "      <td>ECG</td>\n",
       "      <td>Report</td>\n",
       "      <td>NaN</td>\n",
       "      <td>NaN</td>\n",
       "      <td>Sinus rhythm with sinus arrhythmia or late cyc...</td>\n",
       "    </tr>\n",
       "    <tr>\n",
       "      <th>1298963</th>\n",
       "      <td>1260825</td>\n",
       "      <td>25</td>\n",
       "      <td>129635.0</td>\n",
       "      <td>2160-11-02</td>\n",
       "      <td>2160-11-02 07:51:00</td>\n",
       "      <td>2160-11-02 08:33:00</td>\n",
       "      <td>Nursing/other</td>\n",
       "      <td>Report</td>\n",
       "      <td>16870.0</td>\n",
       "      <td>NaN</td>\n",
       "      <td>NURSING PROGRESS NOTE\\n58 Y/O MALE ADMITTED FR...</td>\n",
       "    </tr>\n",
       "    <tr>\n",
       "      <th>1299141</th>\n",
       "      <td>1260828</td>\n",
       "      <td>25</td>\n",
       "      <td>129635.0</td>\n",
       "      <td>2160-11-03</td>\n",
       "      <td>2160-11-03 05:42:00</td>\n",
       "      <td>2160-11-03 06:05:00</td>\n",
       "      <td>Nursing/other</td>\n",
       "      <td>Report</td>\n",
       "      <td>20220.0</td>\n",
       "      <td>NaN</td>\n",
       "      <td>NEURO: Alert and oriented x3 c/o pain in right...</td>\n",
       "    </tr>\n",
       "    <tr>\n",
       "      <th>1299142</th>\n",
       "      <td>1260829</td>\n",
       "      <td>25</td>\n",
       "      <td>129635.0</td>\n",
       "      <td>2160-11-03</td>\n",
       "      <td>2160-11-03 07:11:00</td>\n",
       "      <td>2160-11-03 07:14:00</td>\n",
       "      <td>Nursing/other</td>\n",
       "      <td>Report</td>\n",
       "      <td>20220.0</td>\n",
       "      <td>NaN</td>\n",
       "      <td>addendum/correction= nasal prongs at 4l. Insul...</td>\n",
       "    </tr>\n",
       "    <tr>\n",
       "      <th>1299143</th>\n",
       "      <td>1260830</td>\n",
       "      <td>25</td>\n",
       "      <td>129635.0</td>\n",
       "      <td>2160-11-03</td>\n",
       "      <td>2160-11-03 17:42:00</td>\n",
       "      <td>2160-11-03 18:12:00</td>\n",
       "      <td>Nursing/other</td>\n",
       "      <td>Report</td>\n",
       "      <td>16923.0</td>\n",
       "      <td>NaN</td>\n",
       "      <td>CCU Nursing Progress Note-7a-7p\\n58 y/o male a...</td>\n",
       "    </tr>\n",
       "    <tr>\n",
       "      <th>1299145</th>\n",
       "      <td>1260832</td>\n",
       "      <td>25</td>\n",
       "      <td>129635.0</td>\n",
       "      <td>2160-11-04</td>\n",
       "      <td>2160-11-04 16:26:00</td>\n",
       "      <td>2160-11-04 17:24:00</td>\n",
       "      <td>Nursing/other</td>\n",
       "      <td>Report</td>\n",
       "      <td>20818.0</td>\n",
       "      <td>NaN</td>\n",
       "      <td>CCU Progress Note:\\n\\nS- \"My back is hurting s...</td>\n",
       "    </tr>\n",
       "  </tbody>\n",
       "</table>\n",
       "</div>"
      ],
      "text/plain": [
       "          ROW_ID  SUBJECT_ID   HADM_ID   CHARTDATE            CHARTTIME  \\\n",
       "4322        4310          23  152223.0  2153-09-08                  NaN   \n",
       "1300638  1260823          23  152223.0  2153-09-04  2153-09-04 15:05:00   \n",
       "1300636  1260821          23  152223.0  2153-09-04  2153-09-04 05:51:00   \n",
       "391613    388380          23  124321.0  2157-10-22  2157-10-22 07:29:00   \n",
       "1145912  1132048          23       NaN  2158-05-22  2158-05-22 14:12:00   \n",
       "1300426  1260819          23  152223.0  2153-09-03  2153-09-03 18:19:00   \n",
       "867104    876552          23  152223.0  2153-09-03  2153-09-03 13:26:00   \n",
       "200580    209956          24  161859.0  2139-06-07                  NaN   \n",
       "200350    209715          24  161859.0  2139-06-08                  NaN   \n",
       "27664      24525          24  161859.0  2139-06-09                  NaN   \n",
       "1298962  1260824          24  161859.0  2139-06-07  2139-06-07 03:19:00   \n",
       "79140      78797          24  161859.0  2139-06-08                  NaN   \n",
       "1299144  1260831          25  129635.0  2160-11-04  2160-11-04 05:26:00   \n",
       "1298945  1260827          25  129635.0  2160-11-02  2160-11-02 19:07:00   \n",
       "166397    181637          25  129635.0  2160-11-03                  NaN   \n",
       "1298963  1260825          25  129635.0  2160-11-02  2160-11-02 07:51:00   \n",
       "1299141  1260828          25  129635.0  2160-11-03  2160-11-03 05:42:00   \n",
       "1299142  1260829          25  129635.0  2160-11-03  2160-11-03 07:11:00   \n",
       "1299143  1260830          25  129635.0  2160-11-03  2160-11-03 17:42:00   \n",
       "1299145  1260832          25  129635.0  2160-11-04  2160-11-04 16:26:00   \n",
       "\n",
       "                   STORETIME           CATEGORY               DESCRIPTION  \\\n",
       "4322                     NaN  Discharge summary                    Report   \n",
       "1300638  2153-09-04 15:07:00      Nursing/other                    Report   \n",
       "1300636  2153-09-04 06:12:00      Nursing/other                    Report   \n",
       "391613   2157-10-22 10:06:40         Physician           Intensivist Note   \n",
       "1145912                  NaN          Radiology  MR HEAD W & W/O CONTRAST   \n",
       "1300426  2153-09-03 18:36:00      Nursing/other                    Report   \n",
       "867104                   NaN          Radiology       CHEST (PORTABLE AP)   \n",
       "200580                   NaN                ECG                    Report   \n",
       "200350                   NaN                ECG                    Report   \n",
       "27664                    NaN  Discharge summary                    Report   \n",
       "1298962  2139-06-07 03:33:00      Nursing/other                    Report   \n",
       "79140                    NaN               Echo                    Report   \n",
       "1299144  2160-11-04 05:40:00      Nursing/other                    Report   \n",
       "1298945  2160-11-02 19:10:00      Nursing/other                    Report   \n",
       "166397                   NaN                ECG                    Report   \n",
       "1298963  2160-11-02 08:33:00      Nursing/other                    Report   \n",
       "1299141  2160-11-03 06:05:00      Nursing/other                    Report   \n",
       "1299142  2160-11-03 07:14:00      Nursing/other                    Report   \n",
       "1299143  2160-11-03 18:12:00      Nursing/other                    Report   \n",
       "1299145  2160-11-04 17:24:00      Nursing/other                    Report   \n",
       "\n",
       "            CGID  ISERROR                                               TEXT  \n",
       "4322         NaN      NaN  Admission Date:  [**2153-9-3**]              D...  \n",
       "1300638  14606.0      NaN  UPDATE\\nD: PT SBP UP ONCE LOPRESSOR EFFECTS DI...  \n",
       "1300636  14967.0      NaN  CSRU NSG:\\n\\nNEURO:  A&OX3, appropriate, speec...  \n",
       "391613   15420.0      NaN  SICU\\n   HPI:\\n   75yo RHM with CAD s/p CABG x...  \n",
       "1145912      NaN      NaN  [**2158-5-22**] 2:12 PM\\n MR HEAD W & W/O CONT...  \n",
       "1300426  14962.0      NaN  csru update\\ncvs: aiming for sbp 90-110, neo t...  \n",
       "867104       NaN      NaN  [**2153-9-3**] 1:26 PM\\n CHEST (PORTABLE AP)  ...  \n",
       "200580       NaN      NaN  Sinus rhythm\\nPossible inferior infarct - age ...  \n",
       "200350       NaN      NaN  Sinus bradycardia\\nModest nonspecific inferior...  \n",
       "27664        NaN      NaN  Admission Date:  [**2139-6-6**]              D...  \n",
       "1298962  17053.0      NaN  ccu nsg admit note.\\n[**2073-6-4**] yo male ad...  \n",
       "79140        NaN      NaN  PATIENT/TEST INFORMATION:\\nIndication: Left ve...  \n",
       "1299144  18592.0      NaN  S. I feel better\\nO. Neuro oob to chair withou...  \n",
       "1298945  20818.0      NaN  ADDENDUM: Post cath Pt vomitted approx 50cc br...  \n",
       "166397       NaN      NaN  Sinus rhythm with sinus arrhythmia or late cyc...  \n",
       "1298963  16870.0      NaN  NURSING PROGRESS NOTE\\n58 Y/O MALE ADMITTED FR...  \n",
       "1299141  20220.0      NaN  NEURO: Alert and oriented x3 c/o pain in right...  \n",
       "1299142  20220.0      NaN  addendum/correction= nasal prongs at 4l. Insul...  \n",
       "1299143  16923.0      NaN  CCU Nursing Progress Note-7a-7p\\n58 y/o male a...  \n",
       "1299145  20818.0      NaN  CCU Progress Note:\\n\\nS- \"My back is hurting s...  "
      ]
     },
     "execution_count": 8,
     "metadata": {},
     "output_type": "execute_result"
    }
   ],
   "source": [
    "sorted_data.iloc[500:520]"
   ]
  },
  {
   "cell_type": "code",
   "execution_count": 28,
   "metadata": {},
   "outputs": [],
   "source": [
    "sorted_try_8 = sorted_data[sorted_data['SUBJECT_ID']==8]\n",
    "sorted_try_8 = sorted_try_8['TEXT']\n"
   ]
  },
  {
   "cell_type": "code",
   "execution_count": 10,
   "metadata": {},
   "outputs": [],
   "source": [
    "sorted_try_17 = sorted_data[sorted_data['SUBJECT_ID']==17]\n",
    "sorted_try_17 = sorted_try_17['TEXT']\n"
   ]
  },
  {
   "cell_type": "code",
   "execution_count": 29,
   "metadata": {},
   "outputs": [
    {
     "name": "stdout",
     "output_type": "stream",
     "text": [
      "Entry 1:\n",
      "RESPIRATORY CARE NOTE\n",
      "Baby [**Known lastname 19**] received on Prong CPAP 5 FiO2 21%. At 8pm baby was taken off CPAP and placed in room air. BAby looks comfortable off CPAP cont to follow.\n",
      "\n",
      "--------------------------------------------------\n",
      "Entry 2:\n",
      "[**2117-11-20**] 1:09 PM\n",
      " BABYGRAM (CHEST ONLY) PORT                                      Clip # [**Clip Number (Radiology) 36725**]\n",
      " Reason: r/o pneumothorax, resp distress\n",
      " Admitting Diagnosis: NEWBORN\n",
      " ______________________________________________________________________________\n",
      " [**Hospital 2**] MEDICAL CONDITION:\n",
      "  Infant with\n",
      " REASON FOR THIS EXAMINATION:\n",
      "  r/o pneumothorax\n",
      "  resp distress\n",
      " ______________________________________________________________________________\n",
      "                                 FINAL REPORT\n",
      " HISTORY: Newborn infant with respiratory distress.\n",
      "\n",
      " HISTORY: This is the first film on this patient. Overall low lung volumes with\n",
      " mild pulmonary edema. No focal opacity, pleural effusion, or pneumothorax. The\n",
      " cardiomediastinal silhouette appears normal. The bony structures are\n",
      " unremarkable.\n",
      "\n",
      "\n",
      "--------------------------------------------------\n",
      "Entry 3:\n",
      "Neonatology Attending\n",
      "\n",
      "Day 1   PMA 37 4/7 weeks\n",
      "\n",
      "Remains in RA.  RR 30-60s.  Sats 95-100%.  Minimal retractions.  No murmur.  HR 120-140s.  BP mean 57.  Pink.  TF at 60 cc/kg/d.  Put to breast.  Supplemented with IV dextrose.  Blood glucose 101.  Stable temperature.\n",
      "\n",
      "S/P TTN.  Transitioning well.  Will continue to monitor closely.  Will heparin lock IV.  Plan to transfer to newborn nursery if continues to do well.\n",
      "\n",
      "\n",
      "--------------------------------------------------\n",
      "Entry 4:\n",
      "1 Infant with Potential Sepsis\n",
      "2 Term Respiratory Distress\n",
      "3 FEN\n",
      "4 G&D\n",
      "5 Parents\n",
      "\n",
      "REVISIONS TO PATHWAY:\n",
      "\n",
      "  1 Infant with Potential Sepsis; added\n",
      "    Start date: [**2117-11-20**]\n",
      "  2 Term Respiratory Distress; added\n",
      "    Etiologies:\n",
      "      Transient Tachypnea of the Newborn\n",
      "      Meconium Aspiration\n",
      "    Start date: [**2117-11-20**]\n",
      "  3 FEN; added\n",
      "    Start date: [**2117-11-20**]\n",
      "  4 G&D; added\n",
      "    Start date: [**2117-11-20**]\n",
      "  5 Parents; added\n",
      "    Start date: [**2117-11-20**]\n",
      "\n",
      "\n",
      "--------------------------------------------------\n",
      "Entry 5:\n",
      "NPN\n",
      "\n",
      "#1 S. O.  Infant given ampicillin as ordered.  Infant\n",
      "remains breathing in room air at this time.  Sleepy at the\n",
      "beginning of the shift.  [**Doctor Last Name 17**] was much more alert later\n",
      "in the shift.A.  R/O sepsis.  P. Document and assess.\n",
      "\n",
      "#2 S. O. At the beginning of the shift,infant was taken off\n",
      "of cpap and placed in room air.  Breath sounds clear and\n",
      "equal with retractions noted.  He remains breathing in room\n",
      "air at this time.  .  A.  Infant with a hx of retained fluid\n",
      "on xray.  P.  Monitor closely.\n",
      "\n",
      "#3 S. O.  Npo.  Piv of d10w infusing at 60cc/kg/day .  D\n",
      "stick 111.  Voiding.  No stool this shift.  A.  doing well.\n",
      "P.  If infant continues to do well,  ? start po/breast\n",
      "feeding.\n",
      "\n",
      "#5 S. O.  Dad in several times. This R.N. updated dad at the\n",
      "bedside. Dad voicing concern regarding infant lying on\n",
      "abdomen.  This R.N.  explained our use of this technique of\n",
      "improving infant's respiratory status  and our use of\n",
      "monitoring.  A.[**Name (NI) 18**] father.  P.  Support and keep updated.\n",
      "\n",
      "\n",
      "\n",
      "\n",
      "--------------------------------------------------\n",
      "Entry 6:\n",
      "Admission Note\n",
      "Infant is a former 37 [**4-23**] week male born to a 38yr old G1 P0->1 GBS neg mom.  Infant was born via c/s with apgars of 8 and 9.  See above note for further antepartum and delivery hx.  Infant was noted to have resp distress in L&D and was brought to NICU for eval.  Infant arrived to NICU at 1230 and was placed on warmer and central monitor.  Initially, infant was dusky and had poor perfusion.  See flowsheet for VS.  CXR done.  Rec'd 32cc NS bolus with improved perfusion.\n",
      "Resp:  Infant began receiving facial CPAP for O2 sats of 30's to 40's then was placed on prong CPAP 6 requiring 50% fiO2.  RR=30-60's.  LS diminished initially, but improved after being placed on CPAP.  Infant was able to quickly wean to RA then CPAP 5.\n",
      "CV:  No murmur.  HR=140-150's.  BP stable.  See flowsheet.  Infant's color improving.\n",
      "FEN:  WT=3160gms.  TF=60cc/k/day D10W.  NPO.  D/S = 86.  V&S.\n",
      "ID:  WBC=18.7 with 61N/0B.  Receiving ampi and gent.  Bld cx sent.\n",
      "G&D:  Tone improved.  Infant more alert and active with cares later in afternoon.  Temps stable nested on open warmer.\n",
      "Parents:  Parents in to visit at 1400 and were updated at bedside.  Dad came back at 1700 and was updated again.  Asking appropriate questions.\n",
      "\n",
      "--------------------------------------------------\n",
      "Entry 7:\n",
      "Neonatology Attending Admission Note\n",
      "\n",
      "Infant is a 37 [**4-23**] week, 3160 gm male newborn who was admitted from L&D to the NICU for respiratory distress.\n",
      "\n",
      "Infant was born to a 38 y.o. G2P0 now 1 mother. Prenatal screens: O+, antibody negative, RPR NR, HBsAg negative, RI, GBS negative. Maternal h/o: asthma (meds: albuterol, flovent, flonase), depression (on Zoloft). Also reported to have received steroids for a bactrim rxn (? timing).\n",
      "\n",
      "This pregancy IUI and complicated by PIH. Mother presented for induction. Delivery by cesarean section. Apgras 8,9. Aproximately 1 hour after delivery assessed by NNP for respiratory distress. Initial assessment reassuring. However, within next hour d/t peristence of symptoms infant was transferred to NICU.\n",
      "\n",
      "Upon arrival infant with retractions, poor aeration, and poor perfusion. Saturation poor in RA. Infant suctioned, given facial CPAP with some improvement. Negative transillumination for air leak. Placed on nasal prong CPAP 6.  CXR taken. IV placed and fluid bolus given for poor perfusion. Labs drawn and infant started on antibiotics.\n",
      "\n",
      "Remainder of exam - AFSF. CV RRR, no murmur, good peripheral pulses though pale with 3+ sec perfusion. Abd soft, +BS. GU nl male. Testes down bilat. Patent anus. No sacral anomalies. Hips stable.\n",
      "\n",
      "Studies:\n",
      "wbc 18.7 (61p, 0 bands)\n",
      "Hct 52\n",
      "Plt 263\n",
      "Bld cx pending\n",
      "CXR with increased perihilar markings, fluid in right minor fissure, some blunting of right costophrenic angle.  Slightly rotated. Heart size ok. Expansion [**8-27**] ribs.\n",
      "\n",
      "A/P:\n",
      "1.  FT, AGA male newborn\n",
      "2.  Respiratory distress. Likely due to TTN given clinical circumstances and CXR. However must also consider infection and/or RDS given marginal term dates.\n",
      "\n",
      "-- CPAP and provide FiO2 as needed. If inc distress consider blood gases and increase in support including ventilation and surfactant delivery\n",
      "-- Antibiotics pending clinical course and bld cx results\n",
      "-- NPO for now as he transitions; provide maintenance IVFs\n",
      "-- Check lytes and bili at 24h\n",
      "-- Keep family updated\n",
      "\n",
      "OB care: Dr. [**Last Name (STitle) 14**]. Delivered by Dr. [**First Name (STitle) 15**].\n",
      "Pedi care: [**Hospital 16**] Pediatrics.\n",
      "\n",
      "\n",
      "\n",
      "--------------------------------------------------\n",
      "Entry 8:\n",
      "Respiratory Care\n",
      "Pt admitted to NICU for respiratory distress. Placed on prong CPAP. Currently pt breathing comfortably on +5cmH2O, RA. bs clear, rr 30's. Plan to support as needed.\n",
      "\n",
      "--------------------------------------------------\n",
      "Entry 9:\n",
      "NPN 0700-[**2042**]\n",
      "\n",
      "\n",
      "1.  Remains on amp and gent for 48hr R/O.  Blood cultures\n",
      "negative to date.  No apparent s/sx of sepsis.  Cont with\n",
      "abx for a 48hr R/O.\n",
      "\n",
      "2.  In RA with sats >95%.  Lungs clear.  RR 30-60's with\n",
      "mild SC retractions.  No A&B or desats.  Stable in RA.  Cont\n",
      "to monitor resp. status.\n",
      "\n",
      "3.  Infant currently ad lib demand and IVF at 60cc/k/d\n",
      "D/C'd.  Infant breast fed well x2 for 20mins.  Dstick this\n",
      "morning 101.  Voiding and no stool thus far.  Abd benign.\n",
      "Tolerating PO feeds well.  Cont to encourage breast feeding.\n",
      "\n",
      "4.  Temp stable swaddled in open crib this afternoon.\n",
      "Waking for feeds Q2 hrs.  Alert and active.  MAE, brings\n",
      "hands to face and mouth.  Cont to promote G&D.\n",
      "\n",
      "5.  Parents in to visit and aware that baby will be\n",
      "transferred to 6nursery today.  Taught parents how to take\n",
      "temp and dad changed diaper independently.  Mom able to\n",
      "nurse baby well.  Cont to update parents and prepare for\n",
      "D/C.\n",
      "\n",
      "[**Hospital 20**] transferred to 6 nursery in stable condition.\n",
      "\n",
      "\n",
      "\n",
      "--------------------------------------------------\n"
     ]
    }
   ],
   "source": [
    "for index, text in enumerate(sorted_try_8, start=1):\n",
    "    print(f\"Entry {index}:\")\n",
    "    print(text)\n",
    "    print(\"-\" * 50)  # Just a separator for readability"
   ]
  },
  {
   "cell_type": "markdown",
   "metadata": {},
   "source": [
    "Attempt to create dataset? (initial, with strict 'history of present illness' as ground truth)"
   ]
  },
  {
   "cell_type": "code",
   "execution_count": 14,
   "metadata": {},
   "outputs": [],
   "source": [
    "#group by patient and concatenate TEXT\n",
    "compiled_records = filtered_df.groupby('SUBJECT_ID')['TEXT'].apply(lambda texts: ' '.join(texts))"
   ]
  },
  {
   "cell_type": "code",
   "execution_count": 15,
   "metadata": {},
   "outputs": [
    {
     "data": {
      "text/plain": [
       "SUBJECT_ID\n",
       "2    Nursing Transfer note\\n\\n\\nPt admitted to NICU...\n",
       "3    Admission Date:  [**2101-10-20**]     Discharg...\n",
       "4    Admission Date:  [**2191-3-16**]     Discharge...\n",
       "5    NNP Triage Note\\n\\nBB [**Known lastname 6**] d...\n",
       "6    Admission Date: [**2175-5-30**]        Dischar...\n",
       "Name: TEXT, dtype: object"
      ]
     },
     "execution_count": 15,
     "metadata": {},
     "output_type": "execute_result"
    }
   ],
   "source": [
    "compiled_records.head()"
   ]
  },
  {
   "cell_type": "code",
   "execution_count": 16,
   "metadata": {},
   "outputs": [],
   "source": [
    "#ground truth summary \n",
    "def extract_history_of_present_illness(text):\n",
    "    start_phrase = \"HISTORY OF PRESENT ILLNESS:\"\n",
    "    end_phrase = \"PAST MEDICAL HISTORY:\"\n",
    "    if start_phrase in text and end_phrase in text:\n",
    "        start_index = text.index(start_phrase) + len(start_phrase)\n",
    "        end_index = text.index(end_phrase, start_index) #index of end phrase after start index\n",
    "        return text[start_index:end_index].strip()\n",
    "    else:\n",
    "        return None"
   ]
  },
  {
   "cell_type": "code",
   "execution_count": 17,
   "metadata": {},
   "outputs": [],
   "source": [
    "#extract ground truth\n",
    "ground_truth = compiled_records.apply(extract_history_of_present_illness)"
   ]
  },
  {
   "cell_type": "code",
   "execution_count": 21,
   "metadata": {
    "scrolled": true
   },
   "outputs": [
    {
     "data": {
      "text/plain": [
       "SUBJECT_ID\n",
       "2                                                      \n",
       "3     The patient is a 76-year-old\\nmale who had bee...\n",
       "4     The patient is a 47-year-old\\nfemale with a hi...\n",
       "5                                                      \n",
       "6     The patient is a 65 year-old\\nwoman with end s...\n",
       "7                                                      \n",
       "8                                                      \n",
       "9                                                      \n",
       "10                                                     \n",
       "11                                                     \n",
       "12    Mr. [**Known firstname **] [**Known lastname 3...\n",
       "13                                                     \n",
       "16                                                     \n",
       "17                                                     \n",
       "18                                                     \n",
       "19                                                     \n",
       "20    The patient is a 65-year-old\\nwoman status pos...\n",
       "21    87 yo M with chronic kidney disease\\ns/p AV Gr...\n",
       "22    The patient is a 64-year-old\\nfemale with a hi...\n",
       "23                                                     \n",
       "Name: TEXT, dtype: object"
      ]
     },
     "execution_count": 21,
     "metadata": {},
     "output_type": "execute_result"
    }
   ],
   "source": [
    "ground_truth[:20]"
   ]
  },
  {
   "cell_type": "code",
   "execution_count": 27,
   "metadata": {},
   "outputs": [
    {
     "data": {
      "text/plain": [
       "\"[**2117-11-20**] 1:09 PM\\n BABYGRAM (CHEST ONLY) PORT                                      Clip # [**Clip Number (Radiology) 36725**]\\n Reason: r/o pneumothorax, resp distress\\n Admitting Diagnosis: NEWBORN\\n ______________________________________________________________________________\\n [**Hospital 2**] MEDICAL CONDITION:\\n  Infant with\\n REASON FOR THIS EXAMINATION:\\n  r/o pneumothorax\\n  resp distress\\n ______________________________________________________________________________\\n                                 FINAL REPORT\\n HISTORY: Newborn infant with respiratory distress.\\n\\n HISTORY: This is the first film on this patient. Overall low lung volumes with\\n mild pulmonary edema. No focal opacity, pleural effusion, or pneumothorax. The\\n cardiomediastinal silhouette appears normal. The bony structures are\\n unremarkable.\\n\\n 1 Infant with Potential Sepsis\\n2 Term Respiratory Distress\\n3 FEN\\n4 G&D\\n5 Parents\\n\\nREVISIONS TO PATHWAY:\\n\\n  1 Infant with Potential Sepsis; added\\n    Start date: [**2117-11-20**]\\n  2 Term Respiratory Distress; added\\n    Etiologies:\\n      Transient Tachypnea of the Newborn\\n      Meconium Aspiration\\n    Start date: [**2117-11-20**]\\n  3 FEN; added\\n    Start date: [**2117-11-20**]\\n  4 G&D; added\\n    Start date: [**2117-11-20**]\\n  5 Parents; added\\n    Start date: [**2117-11-20**]\\n\\n NPN\\n\\n#1 S. O.  Infant given ampicillin as ordered.  Infant\\nremains breathing in room air at this time.  Sleepy at the\\nbeginning of the shift.  [**Doctor Last Name 17**] was much more alert later\\nin the shift.A.  R/O sepsis.  P. Document and assess.\\n\\n#2 S. O. At the beginning of the shift,infant was taken off\\nof cpap and placed in room air.  Breath sounds clear and\\nequal with retractions noted.  He remains breathing in room\\nair at this time.  .  A.  Infant with a hx of retained fluid\\non xray.  P.  Monitor closely.\\n\\n#3 S. O.  Npo.  Piv of d10w infusing at 60cc/kg/day .  D\\nstick 111.  Voiding.  No stool this shift.  A.  doing well.\\nP.  If infant continues to do well,  ? start po/breast\\nfeeding.\\n\\n#5 S. O.  Dad in several times. This R.N. updated dad at the\\nbedside. Dad voicing concern regarding infant lying on\\nabdomen.  This R.N.  explained our use of this technique of\\nimproving infant's respiratory status  and our use of\\nmonitoring.  A.[**Name (NI) 18**] father.  P.  Support and keep updated.\\n\\n\\n\\n RESPIRATORY CARE NOTE\\nBaby [**Known lastname 19**] received on Prong CPAP 5 FiO2 21%. At 8pm baby was taken off CPAP and placed in room air. BAby looks comfortable off CPAP cont to follow.\\n Neonatology Attending\\n\\nDay 1   PMA 37 4/7 weeks\\n\\nRemains in RA.  RR 30-60s.  Sats 95-100%.  Minimal retractions.  No murmur.  HR 120-140s.  BP mean 57.  Pink.  TF at 60 cc/kg/d.  Put to breast.  Supplemented with IV dextrose.  Blood glucose 101.  Stable temperature.\\n\\nS/P TTN.  Transitioning well.  Will continue to monitor closely.  Will heparin lock IV.  Plan to transfer to newborn nursery if continues to do well.\\n\\n NPN 0700-[**2042**]\\n\\n\\n1.  Remains on amp and gent for 48hr R/O.  Blood cultures\\nnegative to date.  No apparent s/sx of sepsis.  Cont with\\nabx for a 48hr R/O.\\n\\n2.  In RA with sats >95%.  Lungs clear.  RR 30-60's with\\nmild SC retractions.  No A&B or desats.  Stable in RA.  Cont\\nto monitor resp. status.\\n\\n3.  Infant currently ad lib demand and IVF at 60cc/k/d\\nD/C'd.  Infant breast fed well x2 for 20mins.  Dstick this\\nmorning 101.  Voiding and no stool thus far.  Abd benign.\\nTolerating PO feeds well.  Cont to encourage breast feeding.\\n\\n4.  Temp stable swaddled in open crib this afternoon.\\nWaking for feeds Q2 hrs.  Alert and active.  MAE, brings\\nhands to face and mouth.  Cont to promote G&D.\\n\\n5.  Parents in to visit and aware that baby will be\\ntransferred to 6nursery today.  Taught parents how to take\\ntemp and dad changed diaper independently.  Mom able to\\nnurse baby well.  Cont to update parents and prepare for\\nD/C.\\n\\n[**Hospital 20**] transferred to 6 nursery in stable condition.\\n\\n\\n Neonatology Attending Admission Note\\n\\nInfant is a 37 [**4-23**] week, 3160 gm male newborn who was admitted from L&D to the NICU for respiratory distress.\\n\\nInfant was born to a 38 y.o. G2P0 now 1 mother. Prenatal screens: O+, antibody negative, RPR NR, HBsAg negative, RI, GBS negative. Maternal h/o: asthma (meds: albuterol, flovent, flonase), depression (on Zoloft). Also reported to have received steroids for a bactrim rxn (? timing).\\n\\nThis pregancy IUI and complicated by PIH. Mother presented for induction. Delivery by cesarean section. Apgras 8,9. Aproximately 1 hour after delivery assessed by NNP for respiratory distress. Initial assessment reassuring. However, within next hour d/t peristence of symptoms infant was transferred to NICU.\\n\\nUpon arrival infant with retractions, poor aeration, and poor perfusion. Saturation poor in RA. Infant suctioned, given facial CPAP with some improvement. Negative transillumination for air leak. Placed on nasal prong CPAP 6.  CXR taken. IV placed and fluid bolus given for poor perfusion. Labs drawn and infant started on antibiotics.\\n\\nRemainder of exam - AFSF. CV RRR, no murmur, good peripheral pulses though pale with 3+ sec perfusion. Abd soft, +BS. GU nl male. Testes down bilat. Patent anus. No sacral anomalies. Hips stable.\\n\\nStudies:\\nwbc 18.7 (61p, 0 bands)\\nHct 52\\nPlt 263\\nBld cx pending\\nCXR with increased perihilar markings, fluid in right minor fissure, some blunting of right costophrenic angle.  Slightly rotated. Heart size ok. Expansion [**8-27**] ribs.\\n\\nA/P:\\n1.  FT, AGA male newborn\\n2.  Respiratory distress. Likely due to TTN given clinical circumstances and CXR. However must also consider infection and/or RDS given marginal term dates.\\n\\n-- CPAP and provide FiO2 as needed. If inc distress consider blood gases and increase in support including ventilation and surfactant delivery\\n-- Antibiotics pending clinical course and bld cx results\\n-- NPO for now as he transitions; provide maintenance IVFs\\n-- Check lytes and bili at 24h\\n-- Keep family updated\\n\\nOB care: Dr. [**Last Name (STitle) 14**]. Delivered by Dr. [**First Name (STitle) 15**].\\nPedi care: [**Hospital 16**] Pediatrics.\\n\\n\\n Respiratory Care\\nPt admitted to NICU for respiratory distress. Placed on prong CPAP. Currently pt breathing comfortably on +5cmH2O, RA. bs clear, rr 30's. Plan to support as needed.\\n Admission Note\\nInfant is a former 37 [**4-23**] week male born to a 38yr old G1 P0->1 GBS neg mom.  Infant was born via c/s with apgars of 8 and 9.  See above note for further antepartum and delivery hx.  Infant was noted to have resp distress in L&D and was brought to NICU for eval.  Infant arrived to NICU at 1230 and was placed on warmer and central monitor.  Initially, infant was dusky and had poor perfusion.  See flowsheet for VS.  CXR done.  Rec'd 32cc NS bolus with improved perfusion.\\nResp:  Infant began receiving facial CPAP for O2 sats of 30's to 40's then was placed on prong CPAP 6 requiring 50% fiO2.  RR=30-60's.  LS diminished initially, but improved after being placed on CPAP.  Infant was able to quickly wean to RA then CPAP 5.\\nCV:  No murmur.  HR=140-150's.  BP stable.  See flowsheet.  Infant's color improving.\\nFEN:  WT=3160gms.  TF=60cc/k/day D10W.  NPO.  D/S = 86.  V&S.\\nID:  WBC=18.7 with 61N/0B.  Receiving ampi and gent.  Bld cx sent.\\nG&D:  Tone improved.  Infant more alert and active with cares later in afternoon.  Temps stable nested on open warmer.\\nParents:  Parents in to visit at 1400 and were updated at bedside.  Dad came back at 1700 and was updated again.  Asking appropriate questions.\\n\""
      ]
     },
     "execution_count": 27,
     "metadata": {},
     "output_type": "execute_result"
    }
   ],
   "source": [
    "compiled_records[8]"
   ]
  },
  {
   "cell_type": "code",
   "execution_count": 25,
   "metadata": {},
   "outputs": [
    {
     "data": {
      "text/plain": [
       "38537"
      ]
     },
     "execution_count": 25,
     "metadata": {},
     "output_type": "execute_result"
    }
   ],
   "source": [
    "empty_rows_count = ground_truth.isna().sum()\n",
    "empty_rows_count += (ground_truth == '').sum()\n",
    "\n",
    "\n",
    "empty_rows_count"
   ]
  },
  {
   "cell_type": "code",
   "execution_count": 26,
   "metadata": {},
   "outputs": [
    {
     "data": {
      "text/plain": [
       "45979"
      ]
     },
     "execution_count": 26,
     "metadata": {},
     "output_type": "execute_result"
    }
   ],
   "source": [
    "len(ground_truth)"
   ]
  },
  {
   "cell_type": "code",
   "execution_count": 34,
   "metadata": {},
   "outputs": [],
   "source": [
    "#remove it from train\n",
    "def remove_history_of_present_illness(text):\n",
    "    start_phrase = \"HISTORY OF PRESENT ILLNESS:\"\n",
    "    end_phrase = \"PAST MEDICAL HISTORY:\"\n",
    "    try:\n",
    "        start_index = text.index(start_phrase)\n",
    "        end_index = text.index(end_phrase, start_index)\n",
    "        # Remove the \"History of Present Illness\" section\n",
    "        return text[:start_index] + text[end_index:]\n",
    "    except ValueError:\n",
    "        # Return the original text if either section is not found\n",
    "        return text\n",
    "\n"
   ]
  },
  {
   "cell_type": "code",
   "execution_count": 35,
   "metadata": {},
   "outputs": [],
   "source": [
    "compiled_records_modified = compiled_records.apply(remove_history_of_present_illness)"
   ]
  },
  {
   "cell_type": "code",
   "execution_count": 38,
   "metadata": {},
   "outputs": [
    {
     "data": {
      "text/plain": [
       "Int64Index([    2,     5,     7,     8,     9,    10,    11,    13,    16,\n",
       "               17,\n",
       "            ...\n",
       "            99965, 99966, 99973, 99982, 99983, 99985, 99991, 99992, 99995,\n",
       "            99999],\n",
       "           dtype='int64', name='SUBJECT_ID', length=38537)"
      ]
     },
     "execution_count": 38,
     "metadata": {},
     "output_type": "execute_result"
    }
   ],
   "source": [
    "#drop all empty rows for both test and train\n",
    "\n",
    "# Find indices of empty rows in ground_truth\n",
    "empty_indices = ground_truth[ground_truth.isna() | (ground_truth == '')].index\n",
    "empty_indices"
   ]
  },
  {
   "cell_type": "code",
   "execution_count": 39,
   "metadata": {},
   "outputs": [],
   "source": [
    "compiled_records_modified = compiled_records_modified.drop(empty_indices)"
   ]
  },
  {
   "cell_type": "code",
   "execution_count": 40,
   "metadata": {},
   "outputs": [],
   "source": [
    "ground_truth = ground_truth.drop(empty_indices)"
   ]
  },
  {
   "cell_type": "code",
   "execution_count": 41,
   "metadata": {},
   "outputs": [
    {
     "data": {
      "text/plain": [
       "7442"
      ]
     },
     "execution_count": 41,
     "metadata": {},
     "output_type": "execute_result"
    }
   ],
   "source": [
    "len(compiled_records_modified)"
   ]
  },
  {
   "cell_type": "code",
   "execution_count": null,
   "metadata": {},
   "outputs": [],
   "source": [
    "#combine "
   ]
  },
  {
   "cell_type": "code",
   "execution_count": 44,
   "metadata": {},
   "outputs": [],
   "source": [
    "combined_df = pd.DataFrame({\n",
    "    \n",
    "    'medical_history':compiled_records_modified,\n",
    "    'ground_truth_summary':ground_truth\n",
    "})"
   ]
  },
  {
   "cell_type": "code",
   "execution_count": 48,
   "metadata": {},
   "outputs": [],
   "source": [
    "from sklearn.model_selection import train_test_split\n",
    "\n",
    "# split into training and remaining data\n",
    "train_data, remaining_data = train_test_split(combined_df, test_size=0.3, random_state=42)\n",
    "\n",
    "# split the remaining data equally into validation and test sets\n",
    "val_data, test_data = train_test_split(remaining_data, test_size=0.5, random_state=42)\n"
   ]
  },
  {
   "cell_type": "code",
   "execution_count": 49,
   "metadata": {},
   "outputs": [],
   "source": [
    "# Saving the datasets to CSV files\n",
    "train_data.to_csv('train_data.csv', index=False)"
   ]
  },
  {
   "cell_type": "code",
   "execution_count": 50,
   "metadata": {},
   "outputs": [],
   "source": [
    "val_data.to_csv('val_data.csv', index=False)"
   ]
  },
  {
   "cell_type": "code",
   "execution_count": 51,
   "metadata": {},
   "outputs": [],
   "source": [
    "test_data.to_csv('test_data.csv', index=False)\n"
   ]
  },
  {
   "cell_type": "code",
   "execution_count": 52,
   "metadata": {},
   "outputs": [
    {
     "data": {
      "text/html": [
       "<div>\n",
       "<style scoped>\n",
       "    .dataframe tbody tr th:only-of-type {\n",
       "        vertical-align: middle;\n",
       "    }\n",
       "\n",
       "    .dataframe tbody tr th {\n",
       "        vertical-align: top;\n",
       "    }\n",
       "\n",
       "    .dataframe thead th {\n",
       "        text-align: right;\n",
       "    }\n",
       "</style>\n",
       "<table border=\"1\" class=\"dataframe\">\n",
       "  <thead>\n",
       "    <tr style=\"text-align: right;\">\n",
       "      <th></th>\n",
       "      <th>medical_history</th>\n",
       "      <th>ground_truth_summary</th>\n",
       "    </tr>\n",
       "    <tr>\n",
       "      <th>SUBJECT_ID</th>\n",
       "      <th></th>\n",
       "      <th></th>\n",
       "    </tr>\n",
       "  </thead>\n",
       "  <tbody>\n",
       "    <tr>\n",
       "      <th>23352</th>\n",
       "      <td>Admission Date:  [**2173-12-12**]       Discha...</td>\n",
       "      <td>The patient is a 21-year-old\\nmale who was bro...</td>\n",
       "    </tr>\n",
       "    <tr>\n",
       "      <th>20445</th>\n",
       "      <td>Admission Date:  [**2132-12-10**]       Discha...</td>\n",
       "      <td>This is a 75-year-old male with\\na large tobac...</td>\n",
       "    </tr>\n",
       "    <tr>\n",
       "      <th>8800</th>\n",
       "      <td>Admission Date:  [**2135-2-15**]     Discharge...</td>\n",
       "      <td>Mr. [**Known lastname 16844**] is a 55 year ol...</td>\n",
       "    </tr>\n",
       "    <tr>\n",
       "      <th>11341</th>\n",
       "      <td>Admission Date:  [**2144-3-10**]     Discharge...</td>\n",
       "      <td>This patient was transferred\\nfrom the medical...</td>\n",
       "    </tr>\n",
       "    <tr>\n",
       "      <th>918</th>\n",
       "      <td>Admission Date: [**2118-2-7**]        Discharg...</td>\n",
       "      <td>This is a 72-year-old female\\npatient without ...</td>\n",
       "    </tr>\n",
       "    <tr>\n",
       "      <th>...</th>\n",
       "      <td>...</td>\n",
       "      <td>...</td>\n",
       "    </tr>\n",
       "    <tr>\n",
       "      <th>19334</th>\n",
       "      <td>Admission Date:  [**2101-12-10**]     Discharg...</td>\n",
       "      <td>This is a 60-year-old female\\nwith no signific...</td>\n",
       "    </tr>\n",
       "    <tr>\n",
       "      <th>19449</th>\n",
       "      <td>Admission Date:  [**2135-4-21**]       Dischar...</td>\n",
       "      <td>The patient is a 59 year-old\\ngentleman with m...</td>\n",
       "    </tr>\n",
       "    <tr>\n",
       "      <th>20100</th>\n",
       "      <td>Admission Date:  [**2148-1-28**]       Dischar...</td>\n",
       "      <td>This is a 72-year-old female,\\nwith a past med...</td>\n",
       "    </tr>\n",
       "    <tr>\n",
       "      <th>3096</th>\n",
       "      <td>Admission Date:  [**2106-1-14**]       Dischar...</td>\n",
       "      <td>The patient is a 31-year-old\\nconstruction wor...</td>\n",
       "    </tr>\n",
       "    <tr>\n",
       "      <th>46499</th>\n",
       "      <td>Admission Date:  [**2178-1-26**]              ...</td>\n",
       "      <td>69 yo female w/PMHx sig for afib, HTN, rheumat...</td>\n",
       "    </tr>\n",
       "  </tbody>\n",
       "</table>\n",
       "<p>5209 rows × 2 columns</p>\n",
       "</div>"
      ],
      "text/plain": [
       "                                              medical_history  \\\n",
       "SUBJECT_ID                                                      \n",
       "23352       Admission Date:  [**2173-12-12**]       Discha...   \n",
       "20445       Admission Date:  [**2132-12-10**]       Discha...   \n",
       "8800        Admission Date:  [**2135-2-15**]     Discharge...   \n",
       "11341       Admission Date:  [**2144-3-10**]     Discharge...   \n",
       "918         Admission Date: [**2118-2-7**]        Discharg...   \n",
       "...                                                       ...   \n",
       "19334       Admission Date:  [**2101-12-10**]     Discharg...   \n",
       "19449       Admission Date:  [**2135-4-21**]       Dischar...   \n",
       "20100       Admission Date:  [**2148-1-28**]       Dischar...   \n",
       "3096        Admission Date:  [**2106-1-14**]       Dischar...   \n",
       "46499       Admission Date:  [**2178-1-26**]              ...   \n",
       "\n",
       "                                         ground_truth_summary  \n",
       "SUBJECT_ID                                                     \n",
       "23352       The patient is a 21-year-old\\nmale who was bro...  \n",
       "20445       This is a 75-year-old male with\\na large tobac...  \n",
       "8800        Mr. [**Known lastname 16844**] is a 55 year ol...  \n",
       "11341       This patient was transferred\\nfrom the medical...  \n",
       "918         This is a 72-year-old female\\npatient without ...  \n",
       "...                                                       ...  \n",
       "19334       This is a 60-year-old female\\nwith no signific...  \n",
       "19449       The patient is a 59 year-old\\ngentleman with m...  \n",
       "20100       This is a 72-year-old female,\\nwith a past med...  \n",
       "3096        The patient is a 31-year-old\\nconstruction wor...  \n",
       "46499       69 yo female w/PMHx sig for afib, HTN, rheumat...  \n",
       "\n",
       "[5209 rows x 2 columns]"
      ]
     },
     "execution_count": 52,
     "metadata": {},
     "output_type": "execute_result"
    }
   ],
   "source": [
    "train_data"
   ]
  },
  {
   "cell_type": "code",
   "execution_count": 53,
   "metadata": {
    "scrolled": true
   },
   "outputs": [
    {
     "data": {
      "text/html": [
       "<div>\n",
       "<style scoped>\n",
       "    .dataframe tbody tr th:only-of-type {\n",
       "        vertical-align: middle;\n",
       "    }\n",
       "\n",
       "    .dataframe tbody tr th {\n",
       "        vertical-align: top;\n",
       "    }\n",
       "\n",
       "    .dataframe thead th {\n",
       "        text-align: right;\n",
       "    }\n",
       "</style>\n",
       "<table border=\"1\" class=\"dataframe\">\n",
       "  <thead>\n",
       "    <tr style=\"text-align: right;\">\n",
       "      <th></th>\n",
       "      <th>medical_history</th>\n",
       "      <th>ground_truth_summary</th>\n",
       "    </tr>\n",
       "    <tr>\n",
       "      <th>SUBJECT_ID</th>\n",
       "      <th></th>\n",
       "      <th></th>\n",
       "    </tr>\n",
       "  </thead>\n",
       "  <tbody>\n",
       "    <tr>\n",
       "      <th>22853</th>\n",
       "      <td>Admission Date:           Discharge Date:  [**...</td>\n",
       "      <td>Patient is a 74-year-old male\\nwith a recent h...</td>\n",
       "    </tr>\n",
       "    <tr>\n",
       "      <th>8859</th>\n",
       "      <td>Admission Date:  [**2136-10-8**]       Dischar...</td>\n",
       "      <td>This is a 65 -year-old gentleman\\nwith a progr...</td>\n",
       "    </tr>\n",
       "    <tr>\n",
       "      <th>7999</th>\n",
       "      <td>Admission Date: [**2196-9-25**]        Dischar...</td>\n",
       "      <td>The patient was a 45-year-old\\ngentleman who w...</td>\n",
       "    </tr>\n",
       "    <tr>\n",
       "      <th>6454</th>\n",
       "      <td>Admission Date:  [**2153-9-12**]       Dischar...</td>\n",
       "      <td>This 74 year-old male initially\\nevaluated fro...</td>\n",
       "    </tr>\n",
       "    <tr>\n",
       "      <th>22878</th>\n",
       "      <td>Admission Date:  [**2133-6-16**]       Dischar...</td>\n",
       "      <td>The patient is a 58-year-old\\nwoman who was ad...</td>\n",
       "    </tr>\n",
       "    <tr>\n",
       "      <th>...</th>\n",
       "      <td>...</td>\n",
       "      <td>...</td>\n",
       "    </tr>\n",
       "    <tr>\n",
       "      <th>17332</th>\n",
       "      <td>Admission Date:  [**2180-3-13**]     Discharge...</td>\n",
       "      <td>Mr. [**Known lastname 49346**] is a 45 year-ol...</td>\n",
       "    </tr>\n",
       "    <tr>\n",
       "      <th>11815</th>\n",
       "      <td>Admission Date:  [**2103-1-22**]       Dischar...</td>\n",
       "      <td>This is an 80-year-old female\\nwith intermitte...</td>\n",
       "    </tr>\n",
       "    <tr>\n",
       "      <th>6960</th>\n",
       "      <td>Admission Date:  [**2120-10-30**]       Discha...</td>\n",
       "      <td>The patient is a 66-year-old\\nwoman who was ad...</td>\n",
       "    </tr>\n",
       "    <tr>\n",
       "      <th>3554</th>\n",
       "      <td>Admission Date:  [**2142-7-26**]     Discharge...</td>\n",
       "      <td>Patient is a 37-year-old female\\nat nine weeks...</td>\n",
       "    </tr>\n",
       "    <tr>\n",
       "      <th>8569</th>\n",
       "      <td>Admission Date:  [**2113-7-29**]     Discharge...</td>\n",
       "      <td>A 68-year-old male with a\\nileal loop urinary ...</td>\n",
       "    </tr>\n",
       "  </tbody>\n",
       "</table>\n",
       "<p>1117 rows × 2 columns</p>\n",
       "</div>"
      ],
      "text/plain": [
       "                                              medical_history  \\\n",
       "SUBJECT_ID                                                      \n",
       "22853       Admission Date:           Discharge Date:  [**...   \n",
       "8859        Admission Date:  [**2136-10-8**]       Dischar...   \n",
       "7999        Admission Date: [**2196-9-25**]        Dischar...   \n",
       "6454        Admission Date:  [**2153-9-12**]       Dischar...   \n",
       "22878       Admission Date:  [**2133-6-16**]       Dischar...   \n",
       "...                                                       ...   \n",
       "17332       Admission Date:  [**2180-3-13**]     Discharge...   \n",
       "11815       Admission Date:  [**2103-1-22**]       Dischar...   \n",
       "6960        Admission Date:  [**2120-10-30**]       Discha...   \n",
       "3554        Admission Date:  [**2142-7-26**]     Discharge...   \n",
       "8569        Admission Date:  [**2113-7-29**]     Discharge...   \n",
       "\n",
       "                                         ground_truth_summary  \n",
       "SUBJECT_ID                                                     \n",
       "22853       Patient is a 74-year-old male\\nwith a recent h...  \n",
       "8859        This is a 65 -year-old gentleman\\nwith a progr...  \n",
       "7999        The patient was a 45-year-old\\ngentleman who w...  \n",
       "6454        This 74 year-old male initially\\nevaluated fro...  \n",
       "22878       The patient is a 58-year-old\\nwoman who was ad...  \n",
       "...                                                       ...  \n",
       "17332       Mr. [**Known lastname 49346**] is a 45 year-ol...  \n",
       "11815       This is an 80-year-old female\\nwith intermitte...  \n",
       "6960        The patient is a 66-year-old\\nwoman who was ad...  \n",
       "3554        Patient is a 37-year-old female\\nat nine weeks...  \n",
       "8569        A 68-year-old male with a\\nileal loop urinary ...  \n",
       "\n",
       "[1117 rows x 2 columns]"
      ]
     },
     "execution_count": 53,
     "metadata": {},
     "output_type": "execute_result"
    }
   ],
   "source": [
    "test_data"
   ]
  },
  {
   "cell_type": "code",
   "execution_count": null,
   "metadata": {},
   "outputs": [],
   "source": []
  }
 ],
 "metadata": {
  "kernelspec": {
   "display_name": "Python 3 (ipykernel)",
   "language": "python",
   "name": "python3"
  },
  "language_info": {
   "codemirror_mode": {
    "name": "ipython",
    "version": 3
   },
   "file_extension": ".py",
   "mimetype": "text/x-python",
   "name": "python",
   "nbconvert_exporter": "python",
   "pygments_lexer": "ipython3",
   "version": "3.8.18"
  },
  "vscode": {
   "interpreter": {
    "hash": "c900d89ca0cfd071b27ae442ee9c83ddc039cac400107be46dc9637674d7540d"
   }
  }
 },
 "nbformat": 4,
 "nbformat_minor": 4
}
